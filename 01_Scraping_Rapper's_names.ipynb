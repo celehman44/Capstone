{
 "cells": [
  {
   "cell_type": "markdown",
   "metadata": {},
   "source": [
    "# Scraping Ranker.com to get a list of rappers name"
   ]
  },
  {
   "cell_type": "markdown",
   "metadata": {},
   "source": [
    "In order to scrape genius.com for rap lyrics. I need to have a list of rappers names that I can feed into the api. I can create one manually, but it's easier just to scrape a list of names off the internet. Ranker.com is a public ranking site, and I am choosing to scrape my list from the publically ranked list of the greatest rappers of all time."
   ]
  },
  {
   "cell_type": "markdown",
   "metadata": {},
   "source": [
    "### Importing requests, beatiful soup, OS, and selenium for web scraping"
   ]
  },
  {
   "cell_type": "code",
   "execution_count": 1,
   "metadata": {},
   "outputs": [],
   "source": [
    "from urllib.request import Request, urlopen, quote # Python 3\n",
    "from bs4 import BeautifulSoup\n",
    "import requests\n",
    "import json\n",
    "import os\n",
    "import pickle"
   ]
  },
  {
   "cell_type": "code",
   "execution_count": 2,
   "metadata": {},
   "outputs": [],
   "source": [
    "import time\n",
    "from selenium import webdriver\n",
    "from selenium.webdriver.common.keys import Keys\n",
    "from selenium.common.exceptions import NoSuchElementException\n",
    "from selenium.webdriver.support import expected_conditions as EC\n",
    "from selenium.webdriver.support.wait import WebDriverWait\n",
    "from selenium.webdriver.common.by import By"
   ]
  },
  {
   "cell_type": "code",
   "execution_count": 3,
   "metadata": {},
   "outputs": [],
   "source": [
    "import lyricsgenius as genius\n",
    "client_access_token = \"OWyOJwsI5mCr4YxTeADx2ioI1zRV-A8CKUPBxo3GRIyixhVHrDgPfAknjAgwRkyy\"\n",
    "api = genius.Genius(client_access_token)"
   ]
  },
  {
   "cell_type": "markdown",
   "metadata": {},
   "source": [
    "### Creating a function that will click the load more button until it's gone and scrape the resulting list"
   ]
  },
  {
   "cell_type": "markdown",
   "metadata": {},
   "source": [
    "In this function, I use selenium to click the load more button until it dissapears, I then store the list of rappers names in a list ans "
   ]
  },
  {
   "cell_type": "code",
   "execution_count": 12,
   "metadata": {},
   "outputs": [],
   "source": [
    "def getListFromRanker_Selenium(url):\n",
    "    browser = webdriver.Chrome()\n",
    "\n",
    "    browser.get(\"https://www.ranker.com/crowdranked-list/the-greatest-rappers-of-all-time\")\n",
    "    time.sleep(1)\n",
    "\n",
    "    elem = browser.find_element_by_tag_name(\"body\")\n",
    "    element = browser.find_element_by_xpath(\"//body/button[contains(@id, 'pagination')]\")\n",
    "    i=500\n",
    "    while i:   \n",
    "        try:   \n",
    "            browser.execute_script(\"arguments[0].click();\", element)\n",
    "            elem.send_keys(Keys.PAGE_DOWN)\n",
    "            time.sleep(0.4)\n",
    "            i-=1\n",
    "        except Exception as e:\n",
    "            print(e)\n",
    "            break\n",
    "            \n",
    "    print(\"Complete\")\n",
    "    time.sleep(10)\n",
    "\n",
    "    post_elems = browser.find_elements_by_class_name(\"listItem__data\")\n",
    "    artist_names = [p.find_element_by_class_name(\"listItem__title\").text for p in post_elems[:-1]]\n",
    "    browser.quit()\n",
    "    return artist_names"
   ]
  },
  {
   "cell_type": "code",
   "execution_count": 13,
   "metadata": {},
   "outputs": [],
   "source": [
    "url = \"https://www.ranker.com/crowdranked-list/the-greatest-rappers-of-all-time\""
   ]
  },
  {
   "cell_type": "code",
   "execution_count": 14,
   "metadata": {},
   "outputs": [
    {
     "name": "stdout",
     "output_type": "stream",
     "text": [
      "Complete\n"
     ]
    }
   ],
   "source": [
    "artist_names = getListFromRanker_Selenium(url)"
   ]
  },
  {
   "cell_type": "code",
   "execution_count": 15,
   "metadata": {},
   "outputs": [
    {
     "data": {
      "text/plain": [
       "700"
      ]
     },
     "execution_count": 15,
     "metadata": {},
     "output_type": "execute_result"
    }
   ],
   "source": [
    "len(artist_names)"
   ]
  },
  {
   "cell_type": "code",
   "execution_count": 20,
   "metadata": {},
   "outputs": [],
   "source": [
    "with open('./artist_names.pkl', 'wb+') as f:\n",
    "    pickle.dump(artist_names, f)"
   ]
  }
 ],
 "metadata": {
  "kernelspec": {
   "display_name": "Python 3",
   "language": "python",
   "name": "python3"
  },
  "language_info": {
   "codemirror_mode": {
    "name": "ipython",
    "version": 3
   },
   "file_extension": ".py",
   "mimetype": "text/x-python",
   "name": "python",
   "nbconvert_exporter": "python",
   "pygments_lexer": "ipython3",
   "version": "3.6.5"
  }
 },
 "nbformat": 4,
 "nbformat_minor": 2
}
