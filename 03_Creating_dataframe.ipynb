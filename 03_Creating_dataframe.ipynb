{
 "cells": [
  {
   "cell_type": "markdown",
   "metadata": {},
   "source": [
    "# Creating the dataframe for analysis"
   ]
  },
  {
   "cell_type": "markdown",
   "metadata": {},
   "source": [
    "In this notebook, I am going to iterate through all of the jsons for each artist and create a temporary dictionary where the columns are the keys and the values are the resulting list from each json. There will be columns for lyrics, year, title of song, and artist."
   ]
  },
  {
   "cell_type": "code",
   "execution_count": null,
   "metadata": {},
   "outputs": [],
   "source": [
    "import json\n",
    "import pandas as pd\n",
    "import os"
   ]
  },
  {
   "cell_type": "markdown",
   "metadata": {},
   "source": [
    "Creating an empty list of dataframes to be filled iteratively"
   ]
  },
  {
   "cell_type": "code",
   "execution_count": 66,
   "metadata": {},
   "outputs": [],
   "source": [
    "list_of_dataframes=[]"
   ]
  },
  {
   "cell_type": "markdown",
   "metadata": {},
   "source": [
    "Running a for loop that will create a dataframe for each song and append that dataframe to a list. The dataframes in this list will then be calculated into a f"
   ]
  },
  {
   "cell_type": "code",
   "execution_count": 67,
   "metadata": {},
   "outputs": [],
   "source": [
    "for json_file in os.listdir('./artist_objects'):\n",
    "    name = json_file.split('.')[0]\n",
    "    with open(f'./artist_objects/{json_file}', 'r') as file:\n",
    "        name_json = json.load(file)\n",
    "    tmp = {\n",
    "        'lyrics':[song['lyrics'] for song in name_json],\n",
    "        'year':[song['year'] for song in name_json],\n",
    "        'title':[song['title'] for song in name_json],\n",
    "        'artist':[name for song in name_json]\n",
    "    }\n",
    "    list_of_dataframes.append(pd.DataFrame(tmp))\n",
    "    \n",
    "df = pd.concat(list_of_dataframes)\n",
    "    \n",
    "    "
   ]
  },
  {
   "cell_type": "code",
   "execution_count": 68,
   "metadata": {},
   "outputs": [
    {
     "data": {
      "text/plain": [
       "(34109, 4)"
      ]
     },
     "execution_count": 68,
     "metadata": {},
     "output_type": "execute_result"
    }
   ],
   "source": [
    "df.shape"
   ]
  },
  {
   "cell_type": "code",
   "execution_count": 69,
   "metadata": {},
   "outputs": [
    {
     "name": "stdout",
     "output_type": "stream",
     "text": [
      "<class 'pandas.core.frame.DataFrame'>\n",
      "Int64Index: 34109 entries, 0 to 99\n",
      "Data columns (total 4 columns):\n",
      "lyrics    32734 non-null object\n",
      "year      21115 non-null object\n",
      "title     34109 non-null object\n",
      "artist    34109 non-null object\n",
      "dtypes: object(4)\n",
      "memory usage: 1.3+ MB\n"
     ]
    }
   ],
   "source": [
    "df.info()"
   ]
  },
  {
   "cell_type": "code",
   "execution_count": 70,
   "metadata": {},
   "outputs": [
    {
     "data": {
      "text/html": [
       "<div>\n",
       "<style scoped>\n",
       "    .dataframe tbody tr th:only-of-type {\n",
       "        vertical-align: middle;\n",
       "    }\n",
       "\n",
       "    .dataframe tbody tr th {\n",
       "        vertical-align: top;\n",
       "    }\n",
       "\n",
       "    .dataframe thead th {\n",
       "        text-align: right;\n",
       "    }\n",
       "</style>\n",
       "<table border=\"1\" class=\"dataframe\">\n",
       "  <thead>\n",
       "    <tr style=\"text-align: right;\">\n",
       "      <th></th>\n",
       "      <th>lyrics</th>\n",
       "      <th>year</th>\n",
       "      <th>title</th>\n",
       "      <th>artist</th>\n",
       "    </tr>\n",
       "  </thead>\n",
       "  <tbody>\n",
       "    <tr>\n",
       "      <th>0</th>\n",
       "      <td>[Produced by MF DOOM]\\n\\n[Intro: Dr. Doom]\\nMy...</td>\n",
       "      <td>1999-04-20</td>\n",
       "      <td>?</td>\n",
       "      <td>MF Doom</td>\n",
       "    </tr>\n",
       "    <tr>\n",
       "      <th>1</th>\n",
       "      <td>\"Things take a turn for the worse\"\\n\"Send him ...</td>\n",
       "      <td>2009-03-24</td>\n",
       "      <td>Absolutely</td>\n",
       "      <td>MF Doom</td>\n",
       "    </tr>\n",
       "    <tr>\n",
       "      <th>2</th>\n",
       "      <td>[Produced by MF DOOM]</td>\n",
       "      <td>2003-09-23</td>\n",
       "      <td>Agrimony</td>\n",
       "      <td>MF Doom</td>\n",
       "    </tr>\n",
       "    <tr>\n",
       "      <th>3</th>\n",
       "      <td>[Sample]\\nOne more beer\\nAnd I'll take you all...</td>\n",
       "      <td>2002-01-01</td>\n",
       "      <td>All Outta Ale</td>\n",
       "      <td>MF Doom</td>\n",
       "    </tr>\n",
       "    <tr>\n",
       "      <th>4</th>\n",
       "      <td>None</td>\n",
       "      <td>None</td>\n",
       "      <td>All Outta Ale (The Professor Meets The Supervi...</td>\n",
       "      <td>MF Doom</td>\n",
       "    </tr>\n",
       "    <tr>\n",
       "      <th>5</th>\n",
       "      <td>[Instrumental]</td>\n",
       "      <td>2006-01-24</td>\n",
       "      <td>All Spice</td>\n",
       "      <td>MF Doom</td>\n",
       "    </tr>\n",
       "    <tr>\n",
       "      <th>6</th>\n",
       "      <td>[Intro: Ghostface Killah]\\nYea, that's right\\n...</td>\n",
       "      <td>2009-03-24</td>\n",
       "      <td>Angelz</td>\n",
       "      <td>MF Doom</td>\n",
       "    </tr>\n",
       "    <tr>\n",
       "      <th>7</th>\n",
       "      <td>[Produced by MF DOOM]\\n\\n[Verse 1 : Erykah Bad...</td>\n",
       "      <td>None</td>\n",
       "      <td>Apple Tree (MF Doom Special Blend)</td>\n",
       "      <td>MF Doom</td>\n",
       "    </tr>\n",
       "    <tr>\n",
       "      <th>8</th>\n",
       "      <td>[Produced by MF DOOM]</td>\n",
       "      <td>2006-01-24</td>\n",
       "      <td>Arabic Gum</td>\n",
       "      <td>MF Doom</td>\n",
       "    </tr>\n",
       "    <tr>\n",
       "      <th>9</th>\n",
       "      <td>[Produced by MF DOOM]</td>\n",
       "      <td>2006-01-24</td>\n",
       "      <td>Arrow Root</td>\n",
       "      <td>MF Doom</td>\n",
       "    </tr>\n",
       "    <tr>\n",
       "      <th>10</th>\n",
       "      <td>[Mister Fantastic]\\nIt was back in the days wh...</td>\n",
       "      <td>1999-04-20</td>\n",
       "      <td>Back in the Days</td>\n",
       "      <td>MF Doom</td>\n",
       "    </tr>\n",
       "    <tr>\n",
       "      <th>11</th>\n",
       "      <td>[Verse]\\nHMMMM\\nThe flow is toe in, precision ...</td>\n",
       "      <td>2009-03-24</td>\n",
       "      <td>Ballskin</td>\n",
       "      <td>MF Doom</td>\n",
       "    </tr>\n",
       "    <tr>\n",
       "      <th>12</th>\n",
       "      <td>[Instrumental]</td>\n",
       "      <td>2006-01-24</td>\n",
       "      <td>Bark</td>\n",
       "      <td>MF Doom</td>\n",
       "    </tr>\n",
       "    <tr>\n",
       "      <th>13</th>\n",
       "      <td>[Intro]\\nIf you're waiting for a parade there ...</td>\n",
       "      <td>2009-03-24</td>\n",
       "      <td>Batty Boyz</td>\n",
       "      <td>MF Doom</td>\n",
       "    </tr>\n",
       "    <tr>\n",
       "      <th>14</th>\n",
       "      <td>[Produced by Metal Fingers]\\n\\n[Skit 1]\\nNow I...</td>\n",
       "      <td>2004-11-16</td>\n",
       "      <td>Beef Rapp</td>\n",
       "      <td>MF Doom</td>\n",
       "    </tr>\n",
       "    <tr>\n",
       "      <th>15</th>\n",
       "      <td>Who got the most whips gats and cash?\\nIf you ...</td>\n",
       "      <td>2003-01-01</td>\n",
       "      <td>Bells of Doom</td>\n",
       "      <td>MF Doom</td>\n",
       "    </tr>\n",
       "    <tr>\n",
       "      <th>16</th>\n",
       "      <td>[Produced by MF DOOM]</td>\n",
       "      <td>2006-01-24</td>\n",
       "      <td>Benzoin Gum</td>\n",
       "      <td>MF Doom</td>\n",
       "    </tr>\n",
       "    <tr>\n",
       "      <th>17</th>\n",
       "      <td>[Produced by MF DOOM]</td>\n",
       "      <td>2006-01-24</td>\n",
       "      <td>Bergamot Wild</td>\n",
       "      <td>MF Doom</td>\n",
       "    </tr>\n",
       "    <tr>\n",
       "      <th>18</th>\n",
       "      <td>[Instrumental]</td>\n",
       "      <td>2006-01-24</td>\n",
       "      <td>Black Snake Root</td>\n",
       "      <td>MF Doom</td>\n",
       "    </tr>\n",
       "    <tr>\n",
       "      <th>19</th>\n",
       "      <td>[Produced by MF DOOM]</td>\n",
       "      <td>2006-01-24</td>\n",
       "      <td>Blood Root</td>\n",
       "      <td>MF Doom</td>\n",
       "    </tr>\n",
       "  </tbody>\n",
       "</table>\n",
       "</div>"
      ],
      "text/plain": [
       "                                               lyrics        year  \\\n",
       "0   [Produced by MF DOOM]\\n\\n[Intro: Dr. Doom]\\nMy...  1999-04-20   \n",
       "1   \"Things take a turn for the worse\"\\n\"Send him ...  2009-03-24   \n",
       "2                               [Produced by MF DOOM]  2003-09-23   \n",
       "3   [Sample]\\nOne more beer\\nAnd I'll take you all...  2002-01-01   \n",
       "4                                                None        None   \n",
       "5                                      [Instrumental]  2006-01-24   \n",
       "6   [Intro: Ghostface Killah]\\nYea, that's right\\n...  2009-03-24   \n",
       "7   [Produced by MF DOOM]\\n\\n[Verse 1 : Erykah Bad...        None   \n",
       "8                               [Produced by MF DOOM]  2006-01-24   \n",
       "9                               [Produced by MF DOOM]  2006-01-24   \n",
       "10  [Mister Fantastic]\\nIt was back in the days wh...  1999-04-20   \n",
       "11  [Verse]\\nHMMMM\\nThe flow is toe in, precision ...  2009-03-24   \n",
       "12                                     [Instrumental]  2006-01-24   \n",
       "13  [Intro]\\nIf you're waiting for a parade there ...  2009-03-24   \n",
       "14  [Produced by Metal Fingers]\\n\\n[Skit 1]\\nNow I...  2004-11-16   \n",
       "15  Who got the most whips gats and cash?\\nIf you ...  2003-01-01   \n",
       "16                              [Produced by MF DOOM]  2006-01-24   \n",
       "17                              [Produced by MF DOOM]  2006-01-24   \n",
       "18                                     [Instrumental]  2006-01-24   \n",
       "19                              [Produced by MF DOOM]  2006-01-24   \n",
       "\n",
       "                                                title   artist  \n",
       "0                                                   ?  MF Doom  \n",
       "1                                          Absolutely  MF Doom  \n",
       "2                                            Agrimony  MF Doom  \n",
       "3                                       All Outta Ale  MF Doom  \n",
       "4   All Outta Ale (The Professor Meets The Supervi...  MF Doom  \n",
       "5                                           All Spice  MF Doom  \n",
       "6                                              Angelz  MF Doom  \n",
       "7                  Apple Tree (MF Doom Special Blend)  MF Doom  \n",
       "8                                          Arabic Gum  MF Doom  \n",
       "9                                          Arrow Root  MF Doom  \n",
       "10                                   Back in the Days  MF Doom  \n",
       "11                                           Ballskin  MF Doom  \n",
       "12                                               Bark  MF Doom  \n",
       "13                                         Batty Boyz  MF Doom  \n",
       "14                                          Beef Rapp  MF Doom  \n",
       "15                                      Bells of Doom  MF Doom  \n",
       "16                                        Benzoin Gum  MF Doom  \n",
       "17                                      Bergamot Wild  MF Doom  \n",
       "18                                   Black Snake Root  MF Doom  \n",
       "19                                         Blood Root  MF Doom  "
      ]
     },
     "execution_count": 70,
     "metadata": {},
     "output_type": "execute_result"
    }
   ],
   "source": [
    "df.head(20)"
   ]
  },
  {
   "cell_type": "code",
   "execution_count": 71,
   "metadata": {},
   "outputs": [],
   "source": [
    "df.to_csv('./Rappers.csv')"
   ]
  },
  {
   "cell_type": "code",
   "execution_count": null,
   "metadata": {},
   "outputs": [],
   "source": []
  }
 ],
 "metadata": {
  "kernelspec": {
   "display_name": "Python 3",
   "language": "python",
   "name": "python3"
  },
  "language_info": {
   "codemirror_mode": {
    "name": "ipython",
    "version": 3
   },
   "file_extension": ".py",
   "mimetype": "text/x-python",
   "name": "python",
   "nbconvert_exporter": "python",
   "pygments_lexer": "ipython3",
   "version": "3.6.5"
  }
 },
 "nbformat": 4,
 "nbformat_minor": 2
}
