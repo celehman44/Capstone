{
 "cells": [
  {
   "cell_type": "markdown",
   "metadata": {},
   "source": [
    "# Feature Engineering"
   ]
  },
  {
   "cell_type": "markdown",
   "metadata": {},
   "source": [
    "In this notebook, I will create my target variable (whether or not the song appears on the billboard hot 100's) by seeing if the song exists in either of two billboard hot 100 dataframes found on the internet. "
   ]
  },
  {
   "cell_type": "code",
   "execution_count": 2,
   "metadata": {},
   "outputs": [],
   "source": [
    "import pandas as pd\n",
    "import numpy as np\n",
    "import math\n",
    "from difflib import SequenceMatcher as sm # For comparing similarity of lyrics"
   ]
  },
  {
   "cell_type": "markdown",
   "metadata": {},
   "source": [
    "Loading in my newly cleaned dataframe as well as my billboard data"
   ]
  },
  {
   "cell_type": "code",
   "execution_count": 3,
   "metadata": {},
   "outputs": [],
   "source": [
    "df = pd.read_csv('./clean_df',index_col=0)"
   ]
  },
  {
   "cell_type": "code",
   "execution_count": 4,
   "metadata": {},
   "outputs": [],
   "source": [
    "bb = pd.read_csv('./songs_1970_2018_uniq.csv', index_col=0, engine='python', parse_dates=['date'])"
   ]
  },
  {
   "cell_type": "code",
   "execution_count": 5,
   "metadata": {},
   "outputs": [],
   "source": [
    "billboard = pd.read_csv('./Billboard_Hot100_Singles_1955-2013.csv', parse_dates=['Date'], skiprows=38)"
   ]
  },
  {
   "cell_type": "code",
   "execution_count": 6,
   "metadata": {},
   "outputs": [],
   "source": [
    "billboard.set_index('Date',inplace=True)"
   ]
  },
  {
   "cell_type": "markdown",
   "metadata": {},
   "source": [
    "Examining all three of my dataframes"
   ]
  },
  {
   "cell_type": "code",
   "execution_count": 7,
   "metadata": {
    "scrolled": true
   },
   "outputs": [
    {
     "data": {
      "text/html": [
       "<div>\n",
       "<style scoped>\n",
       "    .dataframe tbody tr th:only-of-type {\n",
       "        vertical-align: middle;\n",
       "    }\n",
       "\n",
       "    .dataframe tbody tr th {\n",
       "        vertical-align: top;\n",
       "    }\n",
       "\n",
       "    .dataframe thead th {\n",
       "        text-align: right;\n",
       "    }\n",
       "</style>\n",
       "<table border=\"1\" class=\"dataframe\">\n",
       "  <thead>\n",
       "    <tr style=\"text-align: right;\">\n",
       "      <th></th>\n",
       "      <th>lyrics</th>\n",
       "      <th>year</th>\n",
       "      <th>title</th>\n",
       "      <th>artist</th>\n",
       "    </tr>\n",
       "  </thead>\n",
       "  <tbody>\n",
       "    <tr>\n",
       "      <th>0</th>\n",
       "      <td>My servants began to forge what was to become...</td>\n",
       "      <td>1999-04-20</td>\n",
       "      <td>?</td>\n",
       "      <td>MF Doom</td>\n",
       "    </tr>\n",
       "    <tr>\n",
       "      <th>1</th>\n",
       "      <td>\"Things take a turn for the worse\" \"Send him b...</td>\n",
       "      <td>2009-03-24</td>\n",
       "      <td>Absolutely</td>\n",
       "      <td>MF Doom</td>\n",
       "    </tr>\n",
       "    <tr>\n",
       "      <th>2</th>\n",
       "      <td>One more beer And I'll take you all All of yo...</td>\n",
       "      <td>2002-01-01</td>\n",
       "      <td>All Outta Ale</td>\n",
       "      <td>MF Doom</td>\n",
       "    </tr>\n",
       "    <tr>\n",
       "      <th>3</th>\n",
       "      <td>Yea, that's right It's not a Hardy Boy myster...</td>\n",
       "      <td>2009-03-24</td>\n",
       "      <td>Angelz</td>\n",
       "      <td>MF Doom</td>\n",
       "    </tr>\n",
       "    <tr>\n",
       "      <th>4</th>\n",
       "      <td>Oh my my my I'm feeling high My moneys gone, ...</td>\n",
       "      <td>NaN</td>\n",
       "      <td>Apple Tree (MF Doom Special Blend)</td>\n",
       "      <td>MF Doom</td>\n",
       "    </tr>\n",
       "  </tbody>\n",
       "</table>\n",
       "</div>"
      ],
      "text/plain": [
       "                                              lyrics        year  \\\n",
       "0   My servants began to forge what was to become...  1999-04-20   \n",
       "1  \"Things take a turn for the worse\" \"Send him b...  2009-03-24   \n",
       "2   One more beer And I'll take you all All of yo...  2002-01-01   \n",
       "3   Yea, that's right It's not a Hardy Boy myster...  2009-03-24   \n",
       "4   Oh my my my I'm feeling high My moneys gone, ...         NaN   \n",
       "\n",
       "                                title   artist  \n",
       "0                                   ?  MF Doom  \n",
       "1                          Absolutely  MF Doom  \n",
       "2                       All Outta Ale  MF Doom  \n",
       "3                              Angelz  MF Doom  \n",
       "4  Apple Tree (MF Doom Special Blend)  MF Doom  "
      ]
     },
     "execution_count": 7,
     "metadata": {},
     "output_type": "execute_result"
    }
   ],
   "source": [
    "df.head()"
   ]
  },
  {
   "cell_type": "code",
   "execution_count": 8,
   "metadata": {
    "scrolled": false
   },
   "outputs": [
    {
     "data": {
      "text/html": [
       "<div>\n",
       "<style scoped>\n",
       "    .dataframe tbody tr th:only-of-type {\n",
       "        vertical-align: middle;\n",
       "    }\n",
       "\n",
       "    .dataframe tbody tr th {\n",
       "        vertical-align: top;\n",
       "    }\n",
       "\n",
       "    .dataframe thead th {\n",
       "        text-align: right;\n",
       "    }\n",
       "</style>\n",
       "<table border=\"1\" class=\"dataframe\">\n",
       "  <thead>\n",
       "    <tr style=\"text-align: right;\">\n",
       "      <th></th>\n",
       "      <th>Year</th>\n",
       "      <th>Peak Chart Position</th>\n",
       "      <th>Artist - Source Database</th>\n",
       "      <th>Artist - Modified</th>\n",
       "      <th>Title - Source Database</th>\n",
       "      <th>Title - Modified</th>\n",
       "      <th>Duration</th>\n",
       "      <th>Original Record Label &amp; Catalog No.</th>\n",
       "      <th>Suggested Filename</th>\n",
       "      <th>Concatenate</th>\n",
       "      <th>Eliminate Hyphens</th>\n",
       "      <th>Substitute Google Comma Char.</th>\n",
       "      <th>Eliminate Ampersand Phrases</th>\n",
       "      <th>Unnamed: 14</th>\n",
       "      <th>Unnamed: 15</th>\n",
       "      <th>Eliminate Parentheticals</th>\n",
       "      <th>Unnamed: 17</th>\n",
       "      <th>Search Formula</th>\n",
       "      <th>Search</th>\n",
       "    </tr>\n",
       "    <tr>\n",
       "      <th>Date</th>\n",
       "      <th></th>\n",
       "      <th></th>\n",
       "      <th></th>\n",
       "      <th></th>\n",
       "      <th></th>\n",
       "      <th></th>\n",
       "      <th></th>\n",
       "      <th></th>\n",
       "      <th></th>\n",
       "      <th></th>\n",
       "      <th></th>\n",
       "      <th></th>\n",
       "      <th></th>\n",
       "      <th></th>\n",
       "      <th></th>\n",
       "      <th></th>\n",
       "      <th></th>\n",
       "      <th></th>\n",
       "      <th></th>\n",
       "    </tr>\n",
       "  </thead>\n",
       "  <tbody>\n",
       "    <tr>\n",
       "      <th>2055-01-01</th>\n",
       "      <td>1955.0</td>\n",
       "      <td>8</td>\n",
       "      <td>Cowboy Church Sunday School, The</td>\n",
       "      <td>Cowboy Church Sunday School</td>\n",
       "      <td>Open Up Your Heart (And Let The Sunshine In)</td>\n",
       "      <td>Open Up Your Heart (And Let the Sunshine In)</td>\n",
       "      <td>2:53</td>\n",
       "      <td>Decca 9-29367</td>\n",
       "      <td>Cowboy Church Sunday School--Open Up Your Hear...</td>\n",
       "      <td>%22Cowboy Church Sunday School%22+%22Open Up Y...</td>\n",
       "      <td>%22Cowboy Church Sunday School%22+%22Open Up Y...</td>\n",
       "      <td>%22Cowboy Church Sunday School%22+%22Open Up Y...</td>\n",
       "      <td>NaN</td>\n",
       "      <td>NaN</td>\n",
       "      <td>%22Cowboy Church Sunday School%22+%22Open Up Y...</td>\n",
       "      <td>57.0</td>\n",
       "      <td>81.0</td>\n",
       "      <td>https://www.google.com/search?q=%22Cowboy Chur...</td>\n",
       "      <td>https://www.google.com/search?q=%22Cowboy Chur...</td>\n",
       "    </tr>\n",
       "    <tr>\n",
       "      <th>2055-01-08</th>\n",
       "      <td>1955.0</td>\n",
       "      <td>1</td>\n",
       "      <td>McGuire Sisters, The</td>\n",
       "      <td>McGuire Sisters</td>\n",
       "      <td>Sincerely</td>\n",
       "      <td>Sincerely</td>\n",
       "      <td>2:54</td>\n",
       "      <td>Coral 9-61323</td>\n",
       "      <td>McGuire Sisters--Sincerely (1955)</td>\n",
       "      <td>%22McGuire Sisters%22+%22Sincerely%22</td>\n",
       "      <td>%22McGuire Sisters%22+%22Sincerely%22</td>\n",
       "      <td>%22McGuire Sisters%22+%22Sincerely%22</td>\n",
       "      <td>NaN</td>\n",
       "      <td>NaN</td>\n",
       "      <td>%22McGuire Sisters%22+%22Sincerely%22</td>\n",
       "      <td>NaN</td>\n",
       "      <td>NaN</td>\n",
       "      <td>https://www.google.com/search?q=%22McGuire Sis...</td>\n",
       "      <td>https://www.google.com/search?q=%22McGuire Sis...</td>\n",
       "    </tr>\n",
       "    <tr>\n",
       "      <th>2055-01-08</th>\n",
       "      <td>1955.0</td>\n",
       "      <td>8</td>\n",
       "      <td>David Carroll and His Orchestra</td>\n",
       "      <td>David Carroll &amp; His Orchestra</td>\n",
       "      <td>Melody Of Love</td>\n",
       "      <td>Melody of Love</td>\n",
       "      <td>2:47</td>\n",
       "      <td>Mercury 70516</td>\n",
       "      <td>David Carroll &amp; His Orchestra--Melody of Love ...</td>\n",
       "      <td>%22David Carroll &amp; His Orchestra%22+%22Melody ...</td>\n",
       "      <td>%22David Carroll &amp; His Orchestra%22+%22Melody ...</td>\n",
       "      <td>%22David Carroll &amp; His Orchestra%22+%22Melody ...</td>\n",
       "      <td>18.0</td>\n",
       "      <td>33.0</td>\n",
       "      <td>%22David Carroll%22+%22Melody of Love%22</td>\n",
       "      <td>NaN</td>\n",
       "      <td>NaN</td>\n",
       "      <td>https://www.google.com/search?q=%22David Carro...</td>\n",
       "      <td>https://www.google.com/search?q=%22David Carro...</td>\n",
       "    </tr>\n",
       "    <tr>\n",
       "      <th>2055-01-08</th>\n",
       "      <td>1955.0</td>\n",
       "      <td>17</td>\n",
       "      <td>Sunny Gale</td>\n",
       "      <td>Sunny Gale</td>\n",
       "      <td>Let Me Go, Lover!</td>\n",
       "      <td>Let Me Go, Lover</td>\n",
       "      <td>2:30</td>\n",
       "      <td>RCA Victor 5952</td>\n",
       "      <td>Sunny Gale--Let Me Go, Lover (1955)</td>\n",
       "      <td>%22Sunny Gale%22+%22Let Me Go, Lover%22</td>\n",
       "      <td>%22Sunny Gale%22+%22Let Me Go, Lover%22</td>\n",
       "      <td>%22Sunny Gale%22+%22Let Me Go%2C Lover%22</td>\n",
       "      <td>NaN</td>\n",
       "      <td>NaN</td>\n",
       "      <td>%22Sunny Gale%22+%22Let Me Go%2C Lover%22</td>\n",
       "      <td>NaN</td>\n",
       "      <td>NaN</td>\n",
       "      <td>https://www.google.com/search?q=%22Sunny Gale%...</td>\n",
       "      <td>https://www.google.com/search?q=%22Sunny Gale%...</td>\n",
       "    </tr>\n",
       "    <tr>\n",
       "      <th>2055-01-15</th>\n",
       "      <td>1955.0</td>\n",
       "      <td>3</td>\n",
       "      <td>Four Aces Featuring Al Alberts</td>\n",
       "      <td>Four Aces</td>\n",
       "      <td>Melody Of Love</td>\n",
       "      <td>Melody of Love</td>\n",
       "      <td>2:45</td>\n",
       "      <td>Decca 29395</td>\n",
       "      <td>Four Aces--Melody of Love (1955)</td>\n",
       "      <td>%22Four Aces%22+%22Melody of Love%22</td>\n",
       "      <td>%22Four Aces%22+%22Melody of Love%22</td>\n",
       "      <td>%22Four Aces%22+%22Melody of Love%22</td>\n",
       "      <td>NaN</td>\n",
       "      <td>NaN</td>\n",
       "      <td>%22Four Aces%22+%22Melody of Love%22</td>\n",
       "      <td>NaN</td>\n",
       "      <td>NaN</td>\n",
       "      <td>https://www.google.com/search?q=%22Four Aces%2...</td>\n",
       "      <td>https://www.google.com/search?q=%22Four Aces%2...</td>\n",
       "    </tr>\n",
       "  </tbody>\n",
       "</table>\n",
       "</div>"
      ],
      "text/plain": [
       "              Year Peak Chart Position          Artist - Source Database  \\\n",
       "Date                                                                       \n",
       "2055-01-01  1955.0                   8  Cowboy Church Sunday School, The   \n",
       "2055-01-08  1955.0                   1              McGuire Sisters, The   \n",
       "2055-01-08  1955.0                   8   David Carroll and His Orchestra   \n",
       "2055-01-08  1955.0                  17                        Sunny Gale   \n",
       "2055-01-15  1955.0                   3    Four Aces Featuring Al Alberts   \n",
       "\n",
       "                        Artist - Modified  \\\n",
       "Date                                        \n",
       "2055-01-01    Cowboy Church Sunday School   \n",
       "2055-01-08                McGuire Sisters   \n",
       "2055-01-08  David Carroll & His Orchestra   \n",
       "2055-01-08                     Sunny Gale   \n",
       "2055-01-15                      Four Aces   \n",
       "\n",
       "                                 Title - Source Database  \\\n",
       "Date                                                       \n",
       "2055-01-01  Open Up Your Heart (And Let The Sunshine In)   \n",
       "2055-01-08                                     Sincerely   \n",
       "2055-01-08                                Melody Of Love   \n",
       "2055-01-08                             Let Me Go, Lover!   \n",
       "2055-01-15                                Melody Of Love   \n",
       "\n",
       "                                        Title - Modified Duration  \\\n",
       "Date                                                                \n",
       "2055-01-01  Open Up Your Heart (And Let the Sunshine In)     2:53   \n",
       "2055-01-08                                     Sincerely     2:54   \n",
       "2055-01-08                                Melody of Love     2:47   \n",
       "2055-01-08                              Let Me Go, Lover     2:30   \n",
       "2055-01-15                                Melody of Love     2:45   \n",
       "\n",
       "           Original Record Label & Catalog No.  \\\n",
       "Date                                             \n",
       "2055-01-01                       Decca 9-29367   \n",
       "2055-01-08                       Coral 9-61323   \n",
       "2055-01-08                       Mercury 70516   \n",
       "2055-01-08                     RCA Victor 5952   \n",
       "2055-01-15                         Decca 29395   \n",
       "\n",
       "                                           Suggested Filename  \\\n",
       "Date                                                            \n",
       "2055-01-01  Cowboy Church Sunday School--Open Up Your Hear...   \n",
       "2055-01-08                  McGuire Sisters--Sincerely (1955)   \n",
       "2055-01-08  David Carroll & His Orchestra--Melody of Love ...   \n",
       "2055-01-08                Sunny Gale--Let Me Go, Lover (1955)   \n",
       "2055-01-15                   Four Aces--Melody of Love (1955)   \n",
       "\n",
       "                                                  Concatenate  \\\n",
       "Date                                                            \n",
       "2055-01-01  %22Cowboy Church Sunday School%22+%22Open Up Y...   \n",
       "2055-01-08              %22McGuire Sisters%22+%22Sincerely%22   \n",
       "2055-01-08  %22David Carroll & His Orchestra%22+%22Melody ...   \n",
       "2055-01-08            %22Sunny Gale%22+%22Let Me Go, Lover%22   \n",
       "2055-01-15               %22Four Aces%22+%22Melody of Love%22   \n",
       "\n",
       "                                            Eliminate Hyphens  \\\n",
       "Date                                                            \n",
       "2055-01-01  %22Cowboy Church Sunday School%22+%22Open Up Y...   \n",
       "2055-01-08              %22McGuire Sisters%22+%22Sincerely%22   \n",
       "2055-01-08  %22David Carroll & His Orchestra%22+%22Melody ...   \n",
       "2055-01-08            %22Sunny Gale%22+%22Let Me Go, Lover%22   \n",
       "2055-01-15               %22Four Aces%22+%22Melody of Love%22   \n",
       "\n",
       "                                Substitute Google Comma Char.  \\\n",
       "Date                                                            \n",
       "2055-01-01  %22Cowboy Church Sunday School%22+%22Open Up Y...   \n",
       "2055-01-08              %22McGuire Sisters%22+%22Sincerely%22   \n",
       "2055-01-08  %22David Carroll & His Orchestra%22+%22Melody ...   \n",
       "2055-01-08          %22Sunny Gale%22+%22Let Me Go%2C Lover%22   \n",
       "2055-01-15               %22Four Aces%22+%22Melody of Love%22   \n",
       "\n",
       "            Eliminate Ampersand Phrases  Unnamed: 14  \\\n",
       "Date                                                   \n",
       "2055-01-01                          NaN          NaN   \n",
       "2055-01-08                          NaN          NaN   \n",
       "2055-01-08                         18.0         33.0   \n",
       "2055-01-08                          NaN          NaN   \n",
       "2055-01-15                          NaN          NaN   \n",
       "\n",
       "                                                  Unnamed: 15  \\\n",
       "Date                                                            \n",
       "2055-01-01  %22Cowboy Church Sunday School%22+%22Open Up Y...   \n",
       "2055-01-08              %22McGuire Sisters%22+%22Sincerely%22   \n",
       "2055-01-08           %22David Carroll%22+%22Melody of Love%22   \n",
       "2055-01-08          %22Sunny Gale%22+%22Let Me Go%2C Lover%22   \n",
       "2055-01-15               %22Four Aces%22+%22Melody of Love%22   \n",
       "\n",
       "            Eliminate Parentheticals  Unnamed: 17  \\\n",
       "Date                                                \n",
       "2055-01-01                      57.0         81.0   \n",
       "2055-01-08                       NaN          NaN   \n",
       "2055-01-08                       NaN          NaN   \n",
       "2055-01-08                       NaN          NaN   \n",
       "2055-01-15                       NaN          NaN   \n",
       "\n",
       "                                               Search Formula  \\\n",
       "Date                                                            \n",
       "2055-01-01  https://www.google.com/search?q=%22Cowboy Chur...   \n",
       "2055-01-08  https://www.google.com/search?q=%22McGuire Sis...   \n",
       "2055-01-08  https://www.google.com/search?q=%22David Carro...   \n",
       "2055-01-08  https://www.google.com/search?q=%22Sunny Gale%...   \n",
       "2055-01-15  https://www.google.com/search?q=%22Four Aces%2...   \n",
       "\n",
       "                                                       Search  \n",
       "Date                                                           \n",
       "2055-01-01  https://www.google.com/search?q=%22Cowboy Chur...  \n",
       "2055-01-08  https://www.google.com/search?q=%22McGuire Sis...  \n",
       "2055-01-08  https://www.google.com/search?q=%22David Carro...  \n",
       "2055-01-08  https://www.google.com/search?q=%22Sunny Gale%...  \n",
       "2055-01-15  https://www.google.com/search?q=%22Four Aces%2...  "
      ]
     },
     "execution_count": 8,
     "metadata": {},
     "output_type": "execute_result"
    }
   ],
   "source": [
    "billboard.head()"
   ]
  },
  {
   "cell_type": "code",
   "execution_count": 9,
   "metadata": {},
   "outputs": [
    {
     "data": {
      "text/html": [
       "<div>\n",
       "<style scoped>\n",
       "    .dataframe tbody tr th:only-of-type {\n",
       "        vertical-align: middle;\n",
       "    }\n",
       "\n",
       "    .dataframe tbody tr th {\n",
       "        vertical-align: top;\n",
       "    }\n",
       "\n",
       "    .dataframe thead th {\n",
       "        text-align: right;\n",
       "    }\n",
       "</style>\n",
       "<table border=\"1\" class=\"dataframe\">\n",
       "  <thead>\n",
       "    <tr style=\"text-align: right;\">\n",
       "      <th></th>\n",
       "      <th>title</th>\n",
       "      <th>artist</th>\n",
       "      <th>peakPos</th>\n",
       "      <th>lastPos</th>\n",
       "      <th>weeks</th>\n",
       "      <th>rank</th>\n",
       "      <th>change</th>\n",
       "    </tr>\n",
       "    <tr>\n",
       "      <th>date</th>\n",
       "      <th></th>\n",
       "      <th></th>\n",
       "      <th></th>\n",
       "      <th></th>\n",
       "      <th></th>\n",
       "      <th></th>\n",
       "      <th></th>\n",
       "    </tr>\n",
       "  </thead>\n",
       "  <tbody>\n",
       "    <tr>\n",
       "      <th>2018-06-21</th>\n",
       "      <td>4th Dimension</td>\n",
       "      <td>KIDS SEE GHOSTS Featuring Louis Prima</td>\n",
       "      <td>42</td>\n",
       "      <td>0</td>\n",
       "      <td>1</td>\n",
       "      <td>42</td>\n",
       "      <td>New</td>\n",
       "    </tr>\n",
       "    <tr>\n",
       "      <th>2018-06-21</th>\n",
       "      <td>All Girls Are The Same</td>\n",
       "      <td>Juice WRLD</td>\n",
       "      <td>41</td>\n",
       "      <td>49</td>\n",
       "      <td>5</td>\n",
       "      <td>41</td>\n",
       "      <td>8</td>\n",
       "    </tr>\n",
       "    <tr>\n",
       "      <th>2018-06-21</th>\n",
       "      <td>All Mine</td>\n",
       "      <td>Kanye West</td>\n",
       "      <td>11</td>\n",
       "      <td>11</td>\n",
       "      <td>2</td>\n",
       "      <td>31</td>\n",
       "      <td>-20</td>\n",
       "    </tr>\n",
       "    <tr>\n",
       "      <th>2018-06-21</th>\n",
       "      <td>Alone</td>\n",
       "      <td>Halsey Featuring Big Sean &amp; Stefflon Don</td>\n",
       "      <td>70</td>\n",
       "      <td>73</td>\n",
       "      <td>9</td>\n",
       "      <td>74</td>\n",
       "      <td>-1</td>\n",
       "    </tr>\n",
       "    <tr>\n",
       "      <th>2018-06-21</th>\n",
       "      <td>Babe</td>\n",
       "      <td>Sugarland Featuring Taylor Swift</td>\n",
       "      <td>72</td>\n",
       "      <td>0</td>\n",
       "      <td>2</td>\n",
       "      <td>95</td>\n",
       "      <td>Re-Entry</td>\n",
       "    </tr>\n",
       "  </tbody>\n",
       "</table>\n",
       "</div>"
      ],
      "text/plain": [
       "                             title                                    artist  \\\n",
       "date                                                                           \n",
       "2018-06-21           4th Dimension     KIDS SEE GHOSTS Featuring Louis Prima   \n",
       "2018-06-21  All Girls Are The Same                                Juice WRLD   \n",
       "2018-06-21                All Mine                                Kanye West   \n",
       "2018-06-21                   Alone  Halsey Featuring Big Sean & Stefflon Don   \n",
       "2018-06-21                    Babe          Sugarland Featuring Taylor Swift   \n",
       "\n",
       "            peakPos  lastPos  weeks  rank    change  \n",
       "date                                                 \n",
       "2018-06-21       42        0      1    42       New  \n",
       "2018-06-21       41       49      5    41         8  \n",
       "2018-06-21       11       11      2    31       -20  \n",
       "2018-06-21       70       73      9    74        -1  \n",
       "2018-06-21       72        0      2    95  Re-Entry  "
      ]
     },
     "execution_count": 9,
     "metadata": {},
     "output_type": "execute_result"
    }
   ],
   "source": [
    "bb.head()"
   ]
  },
  {
   "cell_type": "markdown",
   "metadata": {},
   "source": [
    "Creating a column that has just the year as opposed to the full date"
   ]
  },
  {
   "cell_type": "code",
   "execution_count": 9,
   "metadata": {
    "scrolled": true
   },
   "outputs": [],
   "source": [
    "df.columns = ['lyrics', 'date', 'title', 'artist']"
   ]
  },
  {
   "cell_type": "code",
   "execution_count": 10,
   "metadata": {},
   "outputs": [],
   "source": [
    "df['year'] = pd.to_datetime(df['date'], errors='coerce')"
   ]
  },
  {
   "cell_type": "code",
   "execution_count": 11,
   "metadata": {},
   "outputs": [],
   "source": [
    "df['year'] = df.apply(lambda x: x['year'].year,1)"
   ]
  },
  {
   "cell_type": "code",
   "execution_count": 12,
   "metadata": {},
   "outputs": [
    {
     "data": {
      "text/html": [
       "<div>\n",
       "<style scoped>\n",
       "    .dataframe tbody tr th:only-of-type {\n",
       "        vertical-align: middle;\n",
       "    }\n",
       "\n",
       "    .dataframe tbody tr th {\n",
       "        vertical-align: top;\n",
       "    }\n",
       "\n",
       "    .dataframe thead th {\n",
       "        text-align: right;\n",
       "    }\n",
       "</style>\n",
       "<table border=\"1\" class=\"dataframe\">\n",
       "  <thead>\n",
       "    <tr style=\"text-align: right;\">\n",
       "      <th></th>\n",
       "      <th>lyrics</th>\n",
       "      <th>date</th>\n",
       "      <th>title</th>\n",
       "      <th>artist</th>\n",
       "      <th>year</th>\n",
       "    </tr>\n",
       "  </thead>\n",
       "  <tbody>\n",
       "    <tr>\n",
       "      <th>0</th>\n",
       "      <td>My servants began to forge what was to become...</td>\n",
       "      <td>1999-04-20</td>\n",
       "      <td>?</td>\n",
       "      <td>MF Doom</td>\n",
       "      <td>1999.0</td>\n",
       "    </tr>\n",
       "    <tr>\n",
       "      <th>1</th>\n",
       "      <td>\"Things take a turn for the worse\" \"Send him b...</td>\n",
       "      <td>2009-03-24</td>\n",
       "      <td>Absolutely</td>\n",
       "      <td>MF Doom</td>\n",
       "      <td>2009.0</td>\n",
       "    </tr>\n",
       "    <tr>\n",
       "      <th>2</th>\n",
       "      <td>One more beer And I'll take you all All of yo...</td>\n",
       "      <td>2002-01-01</td>\n",
       "      <td>All Outta Ale</td>\n",
       "      <td>MF Doom</td>\n",
       "      <td>2002.0</td>\n",
       "    </tr>\n",
       "    <tr>\n",
       "      <th>3</th>\n",
       "      <td>Yea, that's right It's not a Hardy Boy myster...</td>\n",
       "      <td>2009-03-24</td>\n",
       "      <td>Angelz</td>\n",
       "      <td>MF Doom</td>\n",
       "      <td>2009.0</td>\n",
       "    </tr>\n",
       "    <tr>\n",
       "      <th>4</th>\n",
       "      <td>Oh my my my I'm feeling high My moneys gone, ...</td>\n",
       "      <td>NaN</td>\n",
       "      <td>Apple Tree (MF Doom Special Blend)</td>\n",
       "      <td>MF Doom</td>\n",
       "      <td>NaN</td>\n",
       "    </tr>\n",
       "  </tbody>\n",
       "</table>\n",
       "</div>"
      ],
      "text/plain": [
       "                                              lyrics        date  \\\n",
       "0   My servants began to forge what was to become...  1999-04-20   \n",
       "1  \"Things take a turn for the worse\" \"Send him b...  2009-03-24   \n",
       "2   One more beer And I'll take you all All of yo...  2002-01-01   \n",
       "3   Yea, that's right It's not a Hardy Boy myster...  2009-03-24   \n",
       "4   Oh my my my I'm feeling high My moneys gone, ...         NaN   \n",
       "\n",
       "                                title   artist    year  \n",
       "0                                   ?  MF Doom  1999.0  \n",
       "1                          Absolutely  MF Doom  2009.0  \n",
       "2                       All Outta Ale  MF Doom  2002.0  \n",
       "3                              Angelz  MF Doom  2009.0  \n",
       "4  Apple Tree (MF Doom Special Blend)  MF Doom     NaN  "
      ]
     },
     "execution_count": 12,
     "metadata": {},
     "output_type": "execute_result"
    }
   ],
   "source": [
    "df.head()"
   ]
  },
  {
   "cell_type": "markdown",
   "metadata": {},
   "source": [
    "Creating a function that will compare two strings and return true if they are similar but not equal (testing if it's mispelled)"
   ]
  },
  {
   "cell_type": "code",
   "execution_count": 18,
   "metadata": {},
   "outputs": [],
   "source": [
    "def stringsAreMispelled(s1, s2):    \n",
    "    seqA = sm(None, s1, s2)\n",
    "    seqB = sm(None, s2, s1)\n",
    "    return (seqA.ratio() > 0.7 or seqB.ratio() > 0.7) and s1 != s2"
   ]
  },
  {
   "cell_type": "markdown",
   "metadata": {},
   "source": [
    "Creating a function that will return true if two strings are similar or equal"
   ]
  },
  {
   "cell_type": "code",
   "execution_count": 19,
   "metadata": {},
   "outputs": [],
   "source": [
    "def stringsAreSame(s1, s2):    \n",
    "    seqA = sm(None, s1, s2)\n",
    "    seqB = sm(None, s2, s1)\n",
    "    return (seqA.ratio() > 0.7 or seqB.ratio() > 0.7) or s1 == s2"
   ]
  },
  {
   "cell_type": "markdown",
   "metadata": {},
   "source": [
    "Creating a funciton that returns true if the two strings are equal"
   ]
  },
  {
   "cell_type": "code",
   "execution_count": 20,
   "metadata": {},
   "outputs": [],
   "source": [
    "def stringsAreEqual(s1, s2):    \n",
    "    seqA = sm(None, s1, s2)\n",
    "    seqB = sm(None, s2, s1)\n",
    "    return s1 == s2"
   ]
  },
  {
   "cell_type": "markdown",
   "metadata": {},
   "source": [
    "Renaming my artists and title columns in my two billboard dataframes so I can merge on them "
   ]
  },
  {
   "cell_type": "code",
   "execution_count": 21,
   "metadata": {},
   "outputs": [],
   "source": [
    "billboard.rename(columns={'Artist - Modified': 'artist', 'Title - Modified': 'title_bboard'}, inplace=True)"
   ]
  },
  {
   "cell_type": "code",
   "execution_count": 22,
   "metadata": {},
   "outputs": [],
   "source": [
    "bb.rename(columns={'title': 'title_bboard'}, inplace=True)"
   ]
  },
  {
   "cell_type": "markdown",
   "metadata": {},
   "source": [
    "Appending the two billboard dataframes together, one ends at 2013 so I'll subset the one that contains 2014 and and after to only include those years"
   ]
  },
  {
   "cell_type": "code",
   "execution_count": 23,
   "metadata": {},
   "outputs": [],
   "source": [
    "bb_subset = bb[bb.index >= '2014']"
   ]
  },
  {
   "cell_type": "code",
   "execution_count": 24,
   "metadata": {
    "scrolled": false
   },
   "outputs": [
    {
     "name": "stderr",
     "output_type": "stream",
     "text": [
      "/opt/conda/lib/python3.6/site-packages/pandas/core/frame.py:6211: FutureWarning: Sorting because non-concatenation axis is not aligned. A future version\n",
      "of pandas will change to not sort by default.\n",
      "\n",
      "To accept the future behavior, pass 'sort=False'.\n",
      "\n",
      "To retain the current behavior and silence the warning, pass 'sort=True'.\n",
      "\n",
      "  sort=sort)\n"
     ]
    }
   ],
   "source": [
    "final_bb = billboard.append(bb_subset, ignore_index=False)"
   ]
  },
  {
   "cell_type": "markdown",
   "metadata": {},
   "source": [
    "Testing my final billboard dataframe with A$ap Rocky"
   ]
  },
  {
   "cell_type": "code",
   "execution_count": 25,
   "metadata": {},
   "outputs": [
    {
     "data": {
      "text/html": [
       "<div>\n",
       "<style scoped>\n",
       "    .dataframe tbody tr th:only-of-type {\n",
       "        vertical-align: middle;\n",
       "    }\n",
       "\n",
       "    .dataframe tbody tr th {\n",
       "        vertical-align: top;\n",
       "    }\n",
       "\n",
       "    .dataframe thead th {\n",
       "        text-align: right;\n",
       "    }\n",
       "</style>\n",
       "<table border=\"1\" class=\"dataframe\">\n",
       "  <thead>\n",
       "    <tr style=\"text-align: right;\">\n",
       "      <th></th>\n",
       "      <th>Artist - Source Database</th>\n",
       "      <th>Concatenate</th>\n",
       "      <th>Duration</th>\n",
       "      <th>Eliminate Ampersand Phrases</th>\n",
       "      <th>Eliminate Hyphens</th>\n",
       "      <th>Eliminate Parentheticals</th>\n",
       "      <th>Original Record Label &amp; Catalog No.</th>\n",
       "      <th>Peak Chart Position</th>\n",
       "      <th>Search</th>\n",
       "      <th>Search Formula</th>\n",
       "      <th>...</th>\n",
       "      <th>Unnamed: 15</th>\n",
       "      <th>Unnamed: 17</th>\n",
       "      <th>Year</th>\n",
       "      <th>artist</th>\n",
       "      <th>change</th>\n",
       "      <th>lastPos</th>\n",
       "      <th>peakPos</th>\n",
       "      <th>rank</th>\n",
       "      <th>title_bboard</th>\n",
       "      <th>weeks</th>\n",
       "    </tr>\n",
       "  </thead>\n",
       "  <tbody>\n",
       "    <tr>\n",
       "      <th>2012-11-17</th>\n",
       "      <td>A$AP Rocky Featuring Drake, 2 Chainz &amp; Kendric...</td>\n",
       "      <td>%22A$AP Rocky%22+%22F--kin Problems%22</td>\n",
       "      <td>3:57</td>\n",
       "      <td>NaN</td>\n",
       "      <td>%22A$AP Rocky%22+%22F--kin Problems%22</td>\n",
       "      <td>NaN</td>\n",
       "      <td>ASAP) Worldwide/Polo Grounds Digital</td>\n",
       "      <td>8</td>\n",
       "      <td>https://www.google.com/search?q=%22A$AP Rocky%...</td>\n",
       "      <td>https://www.google.com/search?q=%22A$AP Rocky%...</td>\n",
       "      <td>...</td>\n",
       "      <td>%22A$AP Rocky%22+%22F--kin Problems%22</td>\n",
       "      <td>NaN</td>\n",
       "      <td>2012.0</td>\n",
       "      <td>A$AP Rocky</td>\n",
       "      <td>NaN</td>\n",
       "      <td>NaN</td>\n",
       "      <td>NaN</td>\n",
       "      <td>NaN</td>\n",
       "      <td>F--kin Problems</td>\n",
       "      <td>NaN</td>\n",
       "    </tr>\n",
       "    <tr>\n",
       "      <th>2013-02-02</th>\n",
       "      <td>A$AP Rocky Featuring Skrillex &amp; Birdy Nam Nam</td>\n",
       "      <td>%22A$AP Rocky%22+%22Wild for the Night%22</td>\n",
       "      <td>3:32</td>\n",
       "      <td>NaN</td>\n",
       "      <td>%22A$AP Rocky%22+%22Wild for the Night%22</td>\n",
       "      <td>NaN</td>\n",
       "      <td>A$AP Worldwide/Polo Grounds Digital</td>\n",
       "      <td>80</td>\n",
       "      <td>https://www.google.com/search?q=%22A$AP Rocky%...</td>\n",
       "      <td>https://www.google.com/search?q=%22A$AP Rocky%...</td>\n",
       "      <td>...</td>\n",
       "      <td>%22A$AP Rocky%22+%22Wild for the Night%22</td>\n",
       "      <td>NaN</td>\n",
       "      <td>2013.0</td>\n",
       "      <td>A$AP Rocky</td>\n",
       "      <td>NaN</td>\n",
       "      <td>NaN</td>\n",
       "      <td>NaN</td>\n",
       "      <td>NaN</td>\n",
       "      <td>Wild for the Night</td>\n",
       "      <td>NaN</td>\n",
       "    </tr>\n",
       "    <tr>\n",
       "      <th>2013-02-02</th>\n",
       "      <td>A$AP Rocky</td>\n",
       "      <td>%22A$AP Rocky%22+%22Long Live A$AP%22</td>\n",
       "      <td>4:49</td>\n",
       "      <td>NaN</td>\n",
       "      <td>%22A$AP Rocky%22+%22Long Live A$AP%22</td>\n",
       "      <td>NaN</td>\n",
       "      <td>A$AP Worldwide/Polo Grounds Digital</td>\n",
       "      <td>86</td>\n",
       "      <td>https://www.google.com/search?q=%22A$AP Rocky%...</td>\n",
       "      <td>https://www.google.com/search?q=%22A$AP Rocky%...</td>\n",
       "      <td>...</td>\n",
       "      <td>%22A$AP Rocky%22+%22Long Live A$AP%22</td>\n",
       "      <td>NaN</td>\n",
       "      <td>2013.0</td>\n",
       "      <td>A$AP Rocky</td>\n",
       "      <td>NaN</td>\n",
       "      <td>NaN</td>\n",
       "      <td>NaN</td>\n",
       "      <td>NaN</td>\n",
       "      <td>Long Live A$AP</td>\n",
       "      <td>NaN</td>\n",
       "    </tr>\n",
       "    <tr>\n",
       "      <th>2015-06-27</th>\n",
       "      <td>NaN</td>\n",
       "      <td>NaN</td>\n",
       "      <td>NaN</td>\n",
       "      <td>NaN</td>\n",
       "      <td>NaN</td>\n",
       "      <td>NaN</td>\n",
       "      <td>NaN</td>\n",
       "      <td>NaN</td>\n",
       "      <td>NaN</td>\n",
       "      <td>NaN</td>\n",
       "      <td>...</td>\n",
       "      <td>NaN</td>\n",
       "      <td>NaN</td>\n",
       "      <td>NaN</td>\n",
       "      <td>A$AP Rocky</td>\n",
       "      <td>-14</td>\n",
       "      <td>84.0</td>\n",
       "      <td>62.0</td>\n",
       "      <td>98.0</td>\n",
       "      <td>L$D</td>\n",
       "      <td>3.0</td>\n",
       "    </tr>\n",
       "  </tbody>\n",
       "</table>\n",
       "<p>4 rows × 24 columns</p>\n",
       "</div>"
      ],
      "text/plain": [
       "                                     Artist - Source Database  \\\n",
       "2012-11-17  A$AP Rocky Featuring Drake, 2 Chainz & Kendric...   \n",
       "2013-02-02     A$AP Rocky Featuring Skrillex & Birdy Nam Nam    \n",
       "2013-02-02                                        A$AP Rocky    \n",
       "2015-06-27                                                NaN   \n",
       "\n",
       "                                          Concatenate Duration  \\\n",
       "2012-11-17     %22A$AP Rocky%22+%22F--kin Problems%22     3:57   \n",
       "2013-02-02  %22A$AP Rocky%22+%22Wild for the Night%22     3:32   \n",
       "2013-02-02      %22A$AP Rocky%22+%22Long Live A$AP%22     4:49   \n",
       "2015-06-27                                        NaN      NaN   \n",
       "\n",
       "            Eliminate Ampersand Phrases  \\\n",
       "2012-11-17                          NaN   \n",
       "2013-02-02                          NaN   \n",
       "2013-02-02                          NaN   \n",
       "2015-06-27                          NaN   \n",
       "\n",
       "                                    Eliminate Hyphens  \\\n",
       "2012-11-17     %22A$AP Rocky%22+%22F--kin Problems%22   \n",
       "2013-02-02  %22A$AP Rocky%22+%22Wild for the Night%22   \n",
       "2013-02-02      %22A$AP Rocky%22+%22Long Live A$AP%22   \n",
       "2015-06-27                                        NaN   \n",
       "\n",
       "            Eliminate Parentheticals   Original Record Label & Catalog No.  \\\n",
       "2012-11-17                       NaN  ASAP) Worldwide/Polo Grounds Digital   \n",
       "2013-02-02                       NaN   A$AP Worldwide/Polo Grounds Digital   \n",
       "2013-02-02                       NaN   A$AP Worldwide/Polo Grounds Digital   \n",
       "2015-06-27                       NaN                                   NaN   \n",
       "\n",
       "           Peak Chart Position  \\\n",
       "2012-11-17                   8   \n",
       "2013-02-02                  80   \n",
       "2013-02-02                  86   \n",
       "2015-06-27                 NaN   \n",
       "\n",
       "                                                       Search  \\\n",
       "2012-11-17  https://www.google.com/search?q=%22A$AP Rocky%...   \n",
       "2013-02-02  https://www.google.com/search?q=%22A$AP Rocky%...   \n",
       "2013-02-02  https://www.google.com/search?q=%22A$AP Rocky%...   \n",
       "2015-06-27                                                NaN   \n",
       "\n",
       "                                               Search Formula  ...    \\\n",
       "2012-11-17  https://www.google.com/search?q=%22A$AP Rocky%...  ...     \n",
       "2013-02-02  https://www.google.com/search?q=%22A$AP Rocky%...  ...     \n",
       "2013-02-02  https://www.google.com/search?q=%22A$AP Rocky%...  ...     \n",
       "2015-06-27                                                NaN  ...     \n",
       "\n",
       "                                          Unnamed: 15 Unnamed: 17    Year  \\\n",
       "2012-11-17     %22A$AP Rocky%22+%22F--kin Problems%22         NaN  2012.0   \n",
       "2013-02-02  %22A$AP Rocky%22+%22Wild for the Night%22         NaN  2013.0   \n",
       "2013-02-02      %22A$AP Rocky%22+%22Long Live A$AP%22         NaN  2013.0   \n",
       "2015-06-27                                        NaN         NaN     NaN   \n",
       "\n",
       "                artist change  lastPos  peakPos  rank        title_bboard  \\\n",
       "2012-11-17  A$AP Rocky    NaN      NaN      NaN   NaN     F--kin Problems   \n",
       "2013-02-02  A$AP Rocky    NaN      NaN      NaN   NaN  Wild for the Night   \n",
       "2013-02-02  A$AP Rocky    NaN      NaN      NaN   NaN      Long Live A$AP   \n",
       "2015-06-27  A$AP Rocky    -14     84.0     62.0  98.0                 L$D   \n",
       "\n",
       "            weeks  \n",
       "2012-11-17    NaN  \n",
       "2013-02-02    NaN  \n",
       "2013-02-02    NaN  \n",
       "2015-06-27    3.0  \n",
       "\n",
       "[4 rows x 24 columns]"
      ]
     },
     "execution_count": 25,
     "metadata": {},
     "output_type": "execute_result"
    }
   ],
   "source": [
    "final_bb[final_bb['artist'] == 'A$AP Rocky']"
   ]
  },
  {
   "cell_type": "markdown",
   "metadata": {},
   "source": [
    "Creating a dataframe that from both my cleaned dataframe and my bilboard dataframe. By merging on artist and keeping the titles of the songs from both dataframes, I am able to get a dataframe that looks like this (see merged.head below)"
   ]
  },
  {
   "cell_type": "code",
   "execution_count": 26,
   "metadata": {},
   "outputs": [],
   "source": [
    "df2 = df"
   ]
  },
  {
   "cell_type": "code",
   "execution_count": 27,
   "metadata": {},
   "outputs": [],
   "source": [
    "merged = df2.merge(final_bb, on='artist',how='inner')[['artist', 'title', 'title_bboard']]"
   ]
  },
  {
   "cell_type": "markdown",
   "metadata": {},
   "source": [
    "Instatiating my target variable column with all zeros"
   ]
  },
  {
   "cell_type": "code",
   "execution_count": 35,
   "metadata": {},
   "outputs": [],
   "source": [
    "merged['hot100'] = 0"
   ]
  },
  {
   "cell_type": "code",
   "execution_count": 38,
   "metadata": {},
   "outputs": [
    {
     "data": {
      "text/html": [
       "<div>\n",
       "<style scoped>\n",
       "    .dataframe tbody tr th:only-of-type {\n",
       "        vertical-align: middle;\n",
       "    }\n",
       "\n",
       "    .dataframe tbody tr th {\n",
       "        vertical-align: top;\n",
       "    }\n",
       "\n",
       "    .dataframe thead th {\n",
       "        text-align: right;\n",
       "    }\n",
       "</style>\n",
       "<table border=\"1\" class=\"dataframe\">\n",
       "  <thead>\n",
       "    <tr style=\"text-align: right;\">\n",
       "      <th></th>\n",
       "      <th>artist</th>\n",
       "      <th>title</th>\n",
       "      <th>title_bboard</th>\n",
       "      <th>hot100</th>\n",
       "    </tr>\n",
       "  </thead>\n",
       "  <tbody>\n",
       "    <tr>\n",
       "      <th>0</th>\n",
       "      <td>A$AP Rocky</td>\n",
       "      <td>1Train</td>\n",
       "      <td>F--kin Problems</td>\n",
       "      <td>0</td>\n",
       "    </tr>\n",
       "    <tr>\n",
       "      <th>1</th>\n",
       "      <td>A$AP Rocky</td>\n",
       "      <td>1Train</td>\n",
       "      <td>Wild for the Night</td>\n",
       "      <td>0</td>\n",
       "    </tr>\n",
       "    <tr>\n",
       "      <th>2</th>\n",
       "      <td>A$AP Rocky</td>\n",
       "      <td>1Train</td>\n",
       "      <td>Long Live A$AP</td>\n",
       "      <td>0</td>\n",
       "    </tr>\n",
       "    <tr>\n",
       "      <th>3</th>\n",
       "      <td>A$AP Rocky</td>\n",
       "      <td>1Train</td>\n",
       "      <td>L$D</td>\n",
       "      <td>0</td>\n",
       "    </tr>\n",
       "    <tr>\n",
       "      <th>4</th>\n",
       "      <td>A$AP Rocky</td>\n",
       "      <td>☆☆☆☆☆ 5IVE $TAR$</td>\n",
       "      <td>F--kin Problems</td>\n",
       "      <td>0</td>\n",
       "    </tr>\n",
       "  </tbody>\n",
       "</table>\n",
       "</div>"
      ],
      "text/plain": [
       "       artist             title        title_bboard  hot100\n",
       "0  A$AP Rocky            1Train     F--kin Problems       0\n",
       "1  A$AP Rocky            1Train  Wild for the Night       0\n",
       "2  A$AP Rocky            1Train      Long Live A$AP       0\n",
       "3  A$AP Rocky            1Train                 L$D       0\n",
       "4  A$AP Rocky  ☆☆☆☆☆ 5IVE $TAR$     F--kin Problems       0"
      ]
     },
     "execution_count": 38,
     "metadata": {},
     "output_type": "execute_result"
    }
   ],
   "source": [
    "merged.head()"
   ]
  },
  {
   "cell_type": "markdown",
   "metadata": {},
   "source": [
    "The column title has the title of every song A\\$AP Rocky did, and it repeats that song's title for however many songs A\\$AP Rocky had on the billboard hot100's. He had 4 songs, so the title is repeated 4 times. This happens for every song, so for each row I can compare each artist's song to all of the artist's hits to assess if the song was a hit or not. This column (hot100) will end up being my target variable, so doing this accurately is crucial to my model's success."
   ]
  },
  {
   "cell_type": "markdown",
   "metadata": {},
   "source": [
    "Creating masks for titles that are the same (similar or equal), songs that have similar titles (or are 'mispelled'), and songs that have only equal titles found in my dataframe and the billboard charts."
   ]
  },
  {
   "cell_type": "code",
   "execution_count": 28,
   "metadata": {},
   "outputs": [
    {
     "name": "stdout",
     "output_type": "stream",
     "text": [
      "CPU times: user 31.4 s, sys: 16 ms, total: 31.4 s\n",
      "Wall time: 31.5 s\n"
     ]
    }
   ],
   "source": [
    "%time misspelled = merged.apply(lambda row: stringsAreMispelled(row['title'], row['title_bboard']), 1)"
   ]
  },
  {
   "cell_type": "code",
   "execution_count": 29,
   "metadata": {
    "scrolled": true
   },
   "outputs": [
    {
     "name": "stdout",
     "output_type": "stream",
     "text": [
      "CPU times: user 10.1 s, sys: 0 ns, total: 10.1 s\n",
      "Wall time: 10.1 s\n"
     ]
    }
   ],
   "source": [
    "%time equal = merged.apply(lambda row: stringsAreEqual(row['title'], row['title_bboard']), 1)"
   ]
  },
  {
   "cell_type": "code",
   "execution_count": 30,
   "metadata": {},
   "outputs": [
    {
     "name": "stdout",
     "output_type": "stream",
     "text": [
      "CPU times: user 31.3 s, sys: 0 ns, total: 31.3 s\n",
      "Wall time: 31.4 s\n"
     ]
    }
   ],
   "source": [
    "%time same = merged.apply(lambda row: stringsAreSame(row['title'], row['title_bboard']), 1)"
   ]
  },
  {
   "cell_type": "markdown",
   "metadata": {},
   "source": [
    "Filtering my merged dataframe with song titles that are found in both my dataframe and on the billboard charts."
   ]
  },
  {
   "cell_type": "code",
   "execution_count": 65,
   "metadata": {},
   "outputs": [],
   "source": [
    "hot100 = merged[same]"
   ]
  },
  {
   "cell_type": "markdown",
   "metadata": {},
   "source": [
    "$893$ hits were found"
   ]
  },
  {
   "cell_type": "code",
   "execution_count": 66,
   "metadata": {},
   "outputs": [
    {
     "data": {
      "text/plain": [
       "893"
      ]
     },
     "execution_count": 66,
     "metadata": {},
     "output_type": "execute_result"
    }
   ],
   "source": [
    "len(hot100)"
   ]
  },
  {
   "cell_type": "code",
   "execution_count": 33,
   "metadata": {},
   "outputs": [],
   "source": [
    "hot100.reset_index(inplace=True)"
   ]
  },
  {
   "cell_type": "markdown",
   "metadata": {},
   "source": [
    "Creating a column that represents if the song was a hit or not. I instantiate it will all zeroes then I iterate through the rows and see if the title of the song was found on the billboard hot 100's.  "
   ]
  },
  {
   "cell_type": "code",
   "execution_count": 35,
   "metadata": {},
   "outputs": [],
   "source": [
    "merged['hot100'] = 0"
   ]
  },
  {
   "cell_type": "code",
   "execution_count": 36,
   "metadata": {},
   "outputs": [],
   "source": [
    "for i in merged[same].index:\n",
    "    merged.loc[i,'hot100'] = 1"
   ]
  },
  {
   "cell_type": "markdown",
   "metadata": {},
   "source": [
    "The number of hits found lines up with my hot100 dataframe"
   ]
  },
  {
   "cell_type": "code",
   "execution_count": 37,
   "metadata": {},
   "outputs": [
    {
     "data": {
      "text/plain": [
       "893"
      ]
     },
     "execution_count": 37,
     "metadata": {},
     "output_type": "execute_result"
    }
   ],
   "source": [
    "sum(merged['hot100'])"
   ]
  },
  {
   "cell_type": "markdown",
   "metadata": {},
   "source": [
    "Checking my dataframe with its new column, hot100"
   ]
  },
  {
   "cell_type": "code",
   "execution_count": 38,
   "metadata": {
    "scrolled": true
   },
   "outputs": [
    {
     "data": {
      "text/html": [
       "<div>\n",
       "<style scoped>\n",
       "    .dataframe tbody tr th:only-of-type {\n",
       "        vertical-align: middle;\n",
       "    }\n",
       "\n",
       "    .dataframe tbody tr th {\n",
       "        vertical-align: top;\n",
       "    }\n",
       "\n",
       "    .dataframe thead th {\n",
       "        text-align: right;\n",
       "    }\n",
       "</style>\n",
       "<table border=\"1\" class=\"dataframe\">\n",
       "  <thead>\n",
       "    <tr style=\"text-align: right;\">\n",
       "      <th></th>\n",
       "      <th>artist</th>\n",
       "      <th>title</th>\n",
       "      <th>title_bboard</th>\n",
       "      <th>hot100</th>\n",
       "    </tr>\n",
       "  </thead>\n",
       "  <tbody>\n",
       "    <tr>\n",
       "      <th>0</th>\n",
       "      <td>A$AP Rocky</td>\n",
       "      <td>1Train</td>\n",
       "      <td>F--kin Problems</td>\n",
       "      <td>0</td>\n",
       "    </tr>\n",
       "    <tr>\n",
       "      <th>1</th>\n",
       "      <td>A$AP Rocky</td>\n",
       "      <td>1Train</td>\n",
       "      <td>Wild for the Night</td>\n",
       "      <td>0</td>\n",
       "    </tr>\n",
       "    <tr>\n",
       "      <th>2</th>\n",
       "      <td>A$AP Rocky</td>\n",
       "      <td>1Train</td>\n",
       "      <td>Long Live A$AP</td>\n",
       "      <td>0</td>\n",
       "    </tr>\n",
       "    <tr>\n",
       "      <th>3</th>\n",
       "      <td>A$AP Rocky</td>\n",
       "      <td>1Train</td>\n",
       "      <td>L$D</td>\n",
       "      <td>0</td>\n",
       "    </tr>\n",
       "    <tr>\n",
       "      <th>4</th>\n",
       "      <td>A$AP Rocky</td>\n",
       "      <td>☆☆☆☆☆ 5IVE $TAR$</td>\n",
       "      <td>F--kin Problems</td>\n",
       "      <td>0</td>\n",
       "    </tr>\n",
       "  </tbody>\n",
       "</table>\n",
       "</div>"
      ],
      "text/plain": [
       "       artist             title        title_bboard  hot100\n",
       "0  A$AP Rocky            1Train     F--kin Problems       0\n",
       "1  A$AP Rocky            1Train  Wild for the Night       0\n",
       "2  A$AP Rocky            1Train      Long Live A$AP       0\n",
       "3  A$AP Rocky            1Train                 L$D       0\n",
       "4  A$AP Rocky  ☆☆☆☆☆ 5IVE $TAR$     F--kin Problems       0"
      ]
     },
     "execution_count": 38,
     "metadata": {},
     "output_type": "execute_result"
    }
   ],
   "source": [
    "merged.head()"
   ]
  },
  {
   "cell_type": "code",
   "execution_count": 70,
   "metadata": {},
   "outputs": [
    {
     "data": {
      "text/html": [
       "<div>\n",
       "<style scoped>\n",
       "    .dataframe tbody tr th:only-of-type {\n",
       "        vertical-align: middle;\n",
       "    }\n",
       "\n",
       "    .dataframe tbody tr th {\n",
       "        vertical-align: top;\n",
       "    }\n",
       "\n",
       "    .dataframe thead th {\n",
       "        text-align: right;\n",
       "    }\n",
       "</style>\n",
       "<table border=\"1\" class=\"dataframe\">\n",
       "  <thead>\n",
       "    <tr style=\"text-align: right;\">\n",
       "      <th></th>\n",
       "      <th>artist</th>\n",
       "      <th>title</th>\n",
       "      <th>title_bboard</th>\n",
       "      <th>hot100</th>\n",
       "    </tr>\n",
       "  </thead>\n",
       "  <tbody>\n",
       "    <tr>\n",
       "      <th>140</th>\n",
       "      <td>A$AP Rocky</td>\n",
       "      <td>Fuckin' Problems</td>\n",
       "      <td>F--kin Problems</td>\n",
       "      <td>1</td>\n",
       "    </tr>\n",
       "    <tr>\n",
       "      <th>263</th>\n",
       "      <td>A$AP Rocky</td>\n",
       "      <td>L$D</td>\n",
       "      <td>L$D</td>\n",
       "      <td>1</td>\n",
       "    </tr>\n",
       "    <tr>\n",
       "      <th>274</th>\n",
       "      <td>A$AP Rocky</td>\n",
       "      <td>Long.Live.A$AP</td>\n",
       "      <td>Long Live A$AP</td>\n",
       "      <td>1</td>\n",
       "    </tr>\n",
       "    <tr>\n",
       "      <th>481</th>\n",
       "      <td>A$AP Rocky</td>\n",
       "      <td>Wild for the Night</td>\n",
       "      <td>Wild for the Night</td>\n",
       "      <td>1</td>\n",
       "    </tr>\n",
       "    <tr>\n",
       "      <th>661</th>\n",
       "      <td>2 Chainz</td>\n",
       "      <td>Birthday Song</td>\n",
       "      <td>Birthday Song</td>\n",
       "      <td>1</td>\n",
       "    </tr>\n",
       "  </tbody>\n",
       "</table>\n",
       "</div>"
      ],
      "text/plain": [
       "         artist               title        title_bboard  hot100\n",
       "140  A$AP Rocky    Fuckin' Problems     F--kin Problems       1\n",
       "263  A$AP Rocky                 L$D                 L$D       1\n",
       "274  A$AP Rocky      Long.Live.A$AP      Long Live A$AP       1\n",
       "481  A$AP Rocky  Wild for the Night  Wild for the Night       1\n",
       "661    2 Chainz       Birthday Song       Birthday Song       1"
      ]
     },
     "execution_count": 70,
     "metadata": {},
     "output_type": "execute_result"
    }
   ],
   "source": [
    "merged[same].head()"
   ]
  },
  {
   "cell_type": "markdown",
   "metadata": {},
   "source": [
    "Now I will create my final dataframe, by merging only the hits onto the dataframe. The songs that are not hits will have NaN values in this column (which I'll label as hot100). I'll fill these nan's with zeros and they'll be my positive class"
   ]
  },
  {
   "cell_type": "code",
   "execution_count": 58,
   "metadata": {},
   "outputs": [],
   "source": [
    "df_final = df.merge(merged.iloc[merged[one].index, :][['artist', 'title', 'hot100']].drop_duplicates(), how='left')"
   ]
  },
  {
   "cell_type": "code",
   "execution_count": 62,
   "metadata": {},
   "outputs": [],
   "source": [
    "df_final.fillna(0, inplace=True)"
   ]
  },
  {
   "cell_type": "code",
   "execution_count": 63,
   "metadata": {},
   "outputs": [
    {
     "data": {
      "text/plain": [
       "870.0"
      ]
     },
     "execution_count": 63,
     "metadata": {},
     "output_type": "execute_result"
    }
   ],
   "source": [
    "sum(df_final['hot100'])"
   ]
  },
  {
   "cell_type": "markdown",
   "metadata": {},
   "source": [
    "My positive class is 870 long. This unforutantely means that my classes are severely unbalanced, as my negative class has more than 15,000 observations. This will have to be dealt with later, but for now I must manually comb through my positive class where the titles are similar (and not equal) and see if my comparison function mislabeled a song as a positive class becuase its title was similar to that of a hit. If a song labeled as a hit is in fact not a hit, I'll have to relable it as zero. Instead of showing all of this, I will only show myself doing this one time so my process can be seen."
   ]
  },
  {
   "cell_type": "markdown",
   "metadata": {},
   "source": [
    "First I have to view a section of my dataframe to manually check for mispellings. I can see on the fourth row that the song 'Pull Up' was mistaken for the hit'Roll Up'. Since these are in fact not the same song, 'Pull Up' will have to be relabeled as a zero."
   ]
  },
  {
   "cell_type": "code",
   "execution_count": 274,
   "metadata": {
    "scrolled": true
   },
   "outputs": [
    {
     "data": {
      "text/html": [
       "<div>\n",
       "<style scoped>\n",
       "    .dataframe tbody tr th:only-of-type {\n",
       "        vertical-align: middle;\n",
       "    }\n",
       "\n",
       "    .dataframe tbody tr th {\n",
       "        vertical-align: top;\n",
       "    }\n",
       "\n",
       "    .dataframe thead th {\n",
       "        text-align: right;\n",
       "    }\n",
       "</style>\n",
       "<table border=\"1\" class=\"dataframe\">\n",
       "  <thead>\n",
       "    <tr style=\"text-align: right;\">\n",
       "      <th></th>\n",
       "      <th>artist</th>\n",
       "      <th>title</th>\n",
       "      <th>title_bboard</th>\n",
       "      <th>hot100</th>\n",
       "    </tr>\n",
       "  </thead>\n",
       "  <tbody>\n",
       "    <tr>\n",
       "      <th>191515</th>\n",
       "      <td>Jadakiss</td>\n",
       "      <td>You Make Me Wanna</td>\n",
       "      <td>U Make Me Wanna</td>\n",
       "      <td>1</td>\n",
       "    </tr>\n",
       "    <tr>\n",
       "      <th>192150</th>\n",
       "      <td>Coolio</td>\n",
       "      <td>1, 2, 3, 4 (Sumpin' New)</td>\n",
       "      <td>1,2,3,4 (Sumptin' New)</td>\n",
       "      <td>1</td>\n",
       "    </tr>\n",
       "    <tr>\n",
       "      <th>192373</th>\n",
       "      <td>Coolio</td>\n",
       "      <td>It's All The Way Live</td>\n",
       "      <td>It's All the Way Live (Now)</td>\n",
       "      <td>1</td>\n",
       "    </tr>\n",
       "    <tr>\n",
       "      <th>195606</th>\n",
       "      <td>Wiz Khalifa</td>\n",
       "      <td>Pull Up</td>\n",
       "      <td>Roll Up</td>\n",
       "      <td>1</td>\n",
       "    </tr>\n",
       "    <tr>\n",
       "      <th>196954</th>\n",
       "      <td>Wiz Khalifa</td>\n",
       "      <td>Word Hard Play Hard (Remix)</td>\n",
       "      <td>Work Hard, Play Hard</td>\n",
       "      <td>1</td>\n",
       "    </tr>\n",
       "    <tr>\n",
       "      <th>197273</th>\n",
       "      <td>RZA</td>\n",
       "      <td>Wu-Wear: The Garment Renaissance</td>\n",
       "      <td>Wu-Wear - the Garment Renaissance</td>\n",
       "      <td>1</td>\n",
       "    </tr>\n",
       "    <tr>\n",
       "      <th>197391</th>\n",
       "      <td>Juvenile</td>\n",
       "      <td>Back That Azz Up</td>\n",
       "      <td>Back That Thang Up</td>\n",
       "      <td>1</td>\n",
       "    </tr>\n",
       "    <tr>\n",
       "      <th>198011</th>\n",
       "      <td>Juvenile</td>\n",
       "      <td>My Life</td>\n",
       "      <td>In My Life</td>\n",
       "      <td>1</td>\n",
       "    </tr>\n",
       "    <tr>\n",
       "      <th>198518</th>\n",
       "      <td>Drake</td>\n",
       "      <td>0 to 100 / The Catch Up</td>\n",
       "      <td>0 To 100 / The Catch Up</td>\n",
       "      <td>1</td>\n",
       "    </tr>\n",
       "    <tr>\n",
       "      <th>199089</th>\n",
       "      <td>Drake</td>\n",
       "      <td>30 for 30 Freestyle</td>\n",
       "      <td>30 For 30 Freestyle</td>\n",
       "      <td>1</td>\n",
       "    </tr>\n",
       "    <tr>\n",
       "      <th>199858</th>\n",
       "      <td>Drake</td>\n",
       "      <td>9AM in Dallas</td>\n",
       "      <td>9 AM in Dallas</td>\n",
       "      <td>1</td>\n",
       "    </tr>\n",
       "    <tr>\n",
       "      <th>201246</th>\n",
       "      <td>Drake</td>\n",
       "      <td>Back to Back</td>\n",
       "      <td>Back To Back</td>\n",
       "      <td>1</td>\n",
       "    </tr>\n",
       "    <tr>\n",
       "      <th>202802</th>\n",
       "      <td>Drake</td>\n",
       "      <td>Bria's Interlude</td>\n",
       "      <td>Jorja Interlude</td>\n",
       "      <td>1</td>\n",
       "    </tr>\n",
       "    <tr>\n",
       "      <th>203722</th>\n",
       "      <td>Drake</td>\n",
       "      <td>Child's Play</td>\n",
       "      <td>Childs Play</td>\n",
       "      <td>1</td>\n",
       "    </tr>\n",
       "    <tr>\n",
       "      <th>208771</th>\n",
       "      <td>Drake</td>\n",
       "      <td>Galchester</td>\n",
       "      <td>Gyalchester</td>\n",
       "      <td>1</td>\n",
       "    </tr>\n",
       "    <tr>\n",
       "      <th>211472</th>\n",
       "      <td>Drake</td>\n",
       "      <td>I'm Goin In</td>\n",
       "      <td>I'm Going In</td>\n",
       "      <td>1</td>\n",
       "    </tr>\n",
       "    <tr>\n",
       "      <th>212600</th>\n",
       "      <td>Drake</td>\n",
       "      <td>Jorja Interlude</td>\n",
       "      <td>Skepta Interlude</td>\n",
       "      <td>1</td>\n",
       "    </tr>\n",
       "    <tr>\n",
       "      <th>212860</th>\n",
       "      <td>Drake</td>\n",
       "      <td>Keep the Family Close</td>\n",
       "      <td>Keep The Family Close</td>\n",
       "      <td>1</td>\n",
       "    </tr>\n",
       "    <tr>\n",
       "      <th>216652</th>\n",
       "      <td>Drake</td>\n",
       "      <td>Nice for What</td>\n",
       "      <td>Nice For What</td>\n",
       "      <td>1</td>\n",
       "    </tr>\n",
       "    <tr>\n",
       "      <th>218387</th>\n",
       "      <td>Drake</td>\n",
       "      <td>Paris Morton Music</td>\n",
       "      <td>Pound Cake - Paris Morton Music 2</td>\n",
       "      <td>1</td>\n",
       "    </tr>\n",
       "    <tr>\n",
       "      <th>219300</th>\n",
       "      <td>Drake</td>\n",
       "      <td>Pound Cake / Paris Morton Music 2</td>\n",
       "      <td>Pound Cake - Paris Morton Music 2</td>\n",
       "      <td>1</td>\n",
       "    </tr>\n",
       "    <tr>\n",
       "      <th>221726</th>\n",
       "      <td>Drake</td>\n",
       "      <td>Skepta Interlude</td>\n",
       "      <td>Jorja Interlude</td>\n",
       "      <td>1</td>\n",
       "    </tr>\n",
       "    <tr>\n",
       "      <th>222364</th>\n",
       "      <td>Drake</td>\n",
       "      <td>Started from the Bottom</td>\n",
       "      <td>Started From the Bottom</td>\n",
       "      <td>1</td>\n",
       "    </tr>\n",
       "    <tr>\n",
       "      <th>222565</th>\n",
       "      <td>Drake</td>\n",
       "      <td>Still Drake</td>\n",
       "      <td>Still Here</td>\n",
       "      <td>1</td>\n",
       "    </tr>\n",
       "    <tr>\n",
       "      <th>223778</th>\n",
       "      <td>Drake</td>\n",
       "      <td>Tell Me</td>\n",
       "      <td>All Me</td>\n",
       "      <td>1</td>\n",
       "    </tr>\n",
       "    <tr>\n",
       "      <th>228220</th>\n",
       "      <td>Ghostface Killah</td>\n",
       "      <td>Cherchez La Ghost</td>\n",
       "      <td>Cherchez LaGhost</td>\n",
       "      <td>1</td>\n",
       "    </tr>\n",
       "    <tr>\n",
       "      <th>229254</th>\n",
       "      <td>LL Cool J</td>\n",
       "      <td>Back Seat (of My Jeep)</td>\n",
       "      <td>Back Seat (Of My Jeep)</td>\n",
       "      <td>1</td>\n",
       "    </tr>\n",
       "    <tr>\n",
       "      <th>230057</th>\n",
       "      <td>LL Cool J</td>\n",
       "      <td>Doin’ It</td>\n",
       "      <td>Doin' It</td>\n",
       "      <td>1</td>\n",
       "    </tr>\n",
       "    <tr>\n",
       "      <th>231971</th>\n",
       "      <td>LL Cool J</td>\n",
       "      <td>New Love</td>\n",
       "      <td>I Need Love</td>\n",
       "      <td>1</td>\n",
       "    </tr>\n",
       "    <tr>\n",
       "      <th>231981</th>\n",
       "      <td>LL Cool J</td>\n",
       "      <td>New Love</td>\n",
       "      <td>Hey Lover</td>\n",
       "      <td>1</td>\n",
       "    </tr>\n",
       "    <tr>\n",
       "      <th>234449</th>\n",
       "      <td>Childish Gambino</td>\n",
       "      <td>Me and Your Mama</td>\n",
       "      <td>Me And Your Mama</td>\n",
       "      <td>1</td>\n",
       "    </tr>\n",
       "    <tr>\n",
       "      <th>235214</th>\n",
       "      <td>Fetty Wap</td>\n",
       "      <td>Chimmy choo</td>\n",
       "      <td>Jimmy Choo</td>\n",
       "      <td>1</td>\n",
       "    </tr>\n",
       "    <tr>\n",
       "      <th>236642</th>\n",
       "      <td>Big Sean</td>\n",
       "      <td>Halfway Off the Balcony</td>\n",
       "      <td>Halfway Off The Balcony</td>\n",
       "      <td>1</td>\n",
       "    </tr>\n",
       "    <tr>\n",
       "      <th>236919</th>\n",
       "      <td>Big Sean</td>\n",
       "      <td>Jumping Out the Window*</td>\n",
       "      <td>Jump Out The Window</td>\n",
       "      <td>1</td>\n",
       "    </tr>\n",
       "    <tr>\n",
       "      <th>241207</th>\n",
       "      <td>Ludacris</td>\n",
       "      <td>Representin</td>\n",
       "      <td>Representin'</td>\n",
       "      <td>1</td>\n",
       "    </tr>\n",
       "    <tr>\n",
       "      <th>242175</th>\n",
       "      <td>Ludacris</td>\n",
       "      <td>What's Your Fantasy?</td>\n",
       "      <td>What's Your Fantasy</td>\n",
       "      <td>1</td>\n",
       "    </tr>\n",
       "    <tr>\n",
       "      <th>242508</th>\n",
       "      <td>House of Pain</td>\n",
       "      <td>Who's the Man?</td>\n",
       "      <td>Who's the Man</td>\n",
       "      <td>1</td>\n",
       "    </tr>\n",
       "    <tr>\n",
       "      <th>243502</th>\n",
       "      <td>Logic</td>\n",
       "      <td>Contact</td>\n",
       "      <td>Contra</td>\n",
       "      <td>1</td>\n",
       "    </tr>\n",
       "    <tr>\n",
       "      <th>245013</th>\n",
       "      <td>Kool Moe Dee</td>\n",
       "      <td>Wild Wild West</td>\n",
       "      <td>Wild, Wild West</td>\n",
       "      <td>1</td>\n",
       "    </tr>\n",
       "    <tr>\n",
       "      <th>245494</th>\n",
       "      <td>KRS-One</td>\n",
       "      <td>Sound of da Police</td>\n",
       "      <td>Sound of Da Police</td>\n",
       "      <td>1</td>\n",
       "    </tr>\n",
       "    <tr>\n",
       "      <th>247505</th>\n",
       "      <td>Kanye West</td>\n",
       "      <td>Blood On the Leaves</td>\n",
       "      <td>Blood on the Leaves</td>\n",
       "      <td>1</td>\n",
       "    </tr>\n",
       "    <tr>\n",
       "      <th>247679</th>\n",
       "      <td>Kanye West</td>\n",
       "      <td>Bound 1</td>\n",
       "      <td>Bound 2</td>\n",
       "      <td>1</td>\n",
       "    </tr>\n",
       "    <tr>\n",
       "      <th>247694</th>\n",
       "      <td>Kanye West</td>\n",
       "      <td>Bound 1</td>\n",
       "      <td>Bound 2</td>\n",
       "      <td>1</td>\n",
       "    </tr>\n",
       "    <tr>\n",
       "      <th>248515</th>\n",
       "      <td>Kanye West</td>\n",
       "      <td>Diamonds from Sierra Leone</td>\n",
       "      <td>Diamonds From Sierra Leone</td>\n",
       "      <td>1</td>\n",
       "    </tr>\n",
       "    <tr>\n",
       "      <th>259902</th>\n",
       "      <td>Kanye West</td>\n",
       "      <td>Wolves</td>\n",
       "      <td>Waves</td>\n",
       "      <td>1</td>\n",
       "    </tr>\n",
       "    <tr>\n",
       "      <th>260581</th>\n",
       "      <td>Future</td>\n",
       "      <td>4 da Gang</td>\n",
       "      <td>4 Da Gang</td>\n",
       "      <td>1</td>\n",
       "    </tr>\n",
       "    <tr>\n",
       "      <th>261297</th>\n",
       "      <td>Future</td>\n",
       "      <td>Blast Off</td>\n",
       "      <td>Mask Off</td>\n",
       "      <td>1</td>\n",
       "    </tr>\n",
       "    <tr>\n",
       "      <th>262416</th>\n",
       "      <td>Future</td>\n",
       "      <td>Fly Shit Only</td>\n",
       "      <td>Fly S**t Only</td>\n",
       "      <td>1</td>\n",
       "    </tr>\n",
       "    <tr>\n",
       "      <th>263624</th>\n",
       "      <td>Future</td>\n",
       "      <td>Karate Chop</td>\n",
       "      <td>Karate Chop (Remix)</td>\n",
       "      <td>1</td>\n",
       "    </tr>\n",
       "  </tbody>\n",
       "</table>\n",
       "</div>"
      ],
      "text/plain": [
       "                  artist                              title  \\\n",
       "191515          Jadakiss                  You Make Me Wanna   \n",
       "192150            Coolio           1, 2, 3, 4 (Sumpin' New)   \n",
       "192373            Coolio              It's All The Way Live   \n",
       "195606       Wiz Khalifa                            Pull Up   \n",
       "196954       Wiz Khalifa        Word Hard Play Hard (Remix)   \n",
       "197273               RZA   Wu-Wear: The Garment Renaissance   \n",
       "197391          Juvenile                   Back That Azz Up   \n",
       "198011          Juvenile                            My Life   \n",
       "198518             Drake            0 to 100 / The Catch Up   \n",
       "199089             Drake                30 for 30 Freestyle   \n",
       "199858             Drake                      9AM in Dallas   \n",
       "201246             Drake                       Back to Back   \n",
       "202802             Drake                   Bria's Interlude   \n",
       "203722             Drake                       Child's Play   \n",
       "208771             Drake                         Galchester   \n",
       "211472             Drake                        I'm Goin In   \n",
       "212600             Drake                    Jorja Interlude   \n",
       "212860             Drake              Keep the Family Close   \n",
       "216652             Drake                      Nice for What   \n",
       "218387             Drake                 Paris Morton Music   \n",
       "219300             Drake  Pound Cake / Paris Morton Music 2   \n",
       "221726             Drake                   Skepta Interlude   \n",
       "222364             Drake            Started from the Bottom   \n",
       "222565             Drake                        Still Drake   \n",
       "223778             Drake                            Tell Me   \n",
       "228220  Ghostface Killah                  Cherchez La Ghost   \n",
       "229254         LL Cool J             Back Seat (of My Jeep)   \n",
       "230057         LL Cool J                           Doin’ It   \n",
       "231971         LL Cool J                           New Love   \n",
       "231981         LL Cool J                           New Love   \n",
       "234449  Childish Gambino                   Me and Your Mama   \n",
       "235214         Fetty Wap                        Chimmy choo   \n",
       "236642          Big Sean            Halfway Off the Balcony   \n",
       "236919          Big Sean            Jumping Out the Window*   \n",
       "241207          Ludacris                        Representin   \n",
       "242175          Ludacris               What's Your Fantasy?   \n",
       "242508     House of Pain                     Who's the Man?   \n",
       "243502             Logic                            Contact   \n",
       "245013      Kool Moe Dee                     Wild Wild West   \n",
       "245494           KRS-One                 Sound of da Police   \n",
       "247505        Kanye West                Blood On the Leaves   \n",
       "247679        Kanye West                            Bound 1   \n",
       "247694        Kanye West                            Bound 1   \n",
       "248515        Kanye West         Diamonds from Sierra Leone   \n",
       "259902        Kanye West                             Wolves   \n",
       "260581            Future                          4 da Gang   \n",
       "261297            Future                          Blast Off   \n",
       "262416            Future                      Fly Shit Only   \n",
       "263624            Future                        Karate Chop   \n",
       "\n",
       "                             title_bboard  hot100  \n",
       "191515                    U Make Me Wanna       1  \n",
       "192150             1,2,3,4 (Sumptin' New)       1  \n",
       "192373        It's All the Way Live (Now)       1  \n",
       "195606                            Roll Up       1  \n",
       "196954               Work Hard, Play Hard       1  \n",
       "197273  Wu-Wear - the Garment Renaissance       1  \n",
       "197391                 Back That Thang Up       1  \n",
       "198011                         In My Life       1  \n",
       "198518            0 To 100 / The Catch Up       1  \n",
       "199089                30 For 30 Freestyle       1  \n",
       "199858                     9 AM in Dallas       1  \n",
       "201246                       Back To Back       1  \n",
       "202802                    Jorja Interlude       1  \n",
       "203722                        Childs Play       1  \n",
       "208771                        Gyalchester       1  \n",
       "211472                       I'm Going In       1  \n",
       "212600                   Skepta Interlude       1  \n",
       "212860              Keep The Family Close       1  \n",
       "216652                      Nice For What       1  \n",
       "218387  Pound Cake - Paris Morton Music 2       1  \n",
       "219300  Pound Cake - Paris Morton Music 2       1  \n",
       "221726                    Jorja Interlude       1  \n",
       "222364            Started From the Bottom       1  \n",
       "222565                         Still Here       1  \n",
       "223778                             All Me       1  \n",
       "228220                   Cherchez LaGhost       1  \n",
       "229254             Back Seat (Of My Jeep)       1  \n",
       "230057                           Doin' It       1  \n",
       "231971                        I Need Love       1  \n",
       "231981                          Hey Lover       1  \n",
       "234449                   Me And Your Mama       1  \n",
       "235214                         Jimmy Choo       1  \n",
       "236642            Halfway Off The Balcony       1  \n",
       "236919                Jump Out The Window       1  \n",
       "241207                       Representin'       1  \n",
       "242175                What's Your Fantasy       1  \n",
       "242508                      Who's the Man       1  \n",
       "243502                             Contra       1  \n",
       "245013                    Wild, Wild West       1  \n",
       "245494                 Sound of Da Police       1  \n",
       "247505                Blood on the Leaves       1  \n",
       "247679                            Bound 2       1  \n",
       "247694                            Bound 2       1  \n",
       "248515         Diamonds From Sierra Leone       1  \n",
       "259902                              Waves       1  \n",
       "260581                          4 Da Gang       1  \n",
       "261297                           Mask Off       1  \n",
       "262416                      Fly S**t Only       1  \n",
       "263624                Karate Chop (Remix)       1  "
      ]
     },
     "execution_count": 274,
     "metadata": {},
     "output_type": "execute_result"
    }
   ],
   "source": [
    "merged[misspelled][150:300]"
   ]
  },
  {
   "cell_type": "markdown",
   "metadata": {},
   "source": [
    "This song was an advertisement but got mistaken for a hit  so it must be dropped. "
   ]
  },
  {
   "cell_type": "code",
   "execution_count": 3,
   "metadata": {},
   "outputs": [],
   "source": [
    "df_final.drop(index = 10264, inplace=True) # advertisement"
   ]
  },
  {
   "cell_type": "markdown",
   "metadata": {},
   "source": [
    "Giving the song 'Still Drake' a zero since it was not a hit."
   ]
  },
  {
   "cell_type": "code",
   "execution_count": 283,
   "metadata": {},
   "outputs": [],
   "source": [
    "df_final.loc[22081,'hot100'] = 0"
   ]
  },
  {
   "cell_type": "markdown",
   "metadata": {},
   "source": [
    "After I checked all mispelled songs (about 300 in total), I ended up removing only about $38$ songs from my positive class"
   ]
  },
  {
   "cell_type": "code",
   "execution_count": 285,
   "metadata": {
    "scrolled": false
   },
   "outputs": [
    {
     "data": {
      "text/plain": [
       "832.0"
      ]
     },
     "execution_count": 285,
     "metadata": {},
     "output_type": "execute_result"
    }
   ],
   "source": [
    "df_final['hot100'].sum()"
   ]
  },
  {
   "cell_type": "markdown",
   "metadata": {},
   "source": [
    "Saving this dataframe as df_hot100"
   ]
  },
  {
   "cell_type": "code",
   "execution_count": 288,
   "metadata": {},
   "outputs": [],
   "source": [
    "df_final.to_csv('./df_hot100.csv')"
   ]
  }
 ],
 "metadata": {
  "kernelspec": {
   "display_name": "Python 3",
   "language": "python",
   "name": "python3"
  },
  "language_info": {
   "codemirror_mode": {
    "name": "ipython",
    "version": 3
   },
   "file_extension": ".py",
   "mimetype": "text/x-python",
   "name": "python",
   "nbconvert_exporter": "python",
   "pygments_lexer": "ipython3",
   "version": "3.6.5"
  }
 },
 "nbformat": 4,
 "nbformat_minor": 2
}
