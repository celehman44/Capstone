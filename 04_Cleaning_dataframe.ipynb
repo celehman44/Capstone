{
 "cells": [
  {
   "cell_type": "markdown",
   "metadata": {},
   "source": [
    "### Cleaning the dataframe"
   ]
  },
  {
   "cell_type": "markdown",
   "metadata": {},
   "source": [
    "In this notebook, I am going to clean up my dateframe by mainly using regex to get rid of unwanted characters as well as removing duplicates"
   ]
  },
  {
   "cell_type": "code",
   "execution_count": 594,
   "metadata": {},
   "outputs": [],
   "source": [
    "import pandas as pd\n",
    "from difflib import SequenceMatcher as sm # For comparing similarity of lyrics\n",
    "import regex as re\n",
    "from nltk.tokenize import RegexpTokenizer"
   ]
  },
  {
   "cell_type": "markdown",
   "metadata": {},
   "source": [
    "Reading in my newly constructed dataframe"
   ]
  },
  {
   "cell_type": "code",
   "execution_count": 595,
   "metadata": {},
   "outputs": [],
   "source": [
    "df = pd.read_csv('./Rappers.csv', index_col=0, parse_dates=['year'])"
   ]
  },
  {
   "cell_type": "code",
   "execution_count": 598,
   "metadata": {
    "scrolled": false
   },
   "outputs": [
    {
     "name": "stdout",
     "output_type": "stream",
     "text": [
      "<class 'pandas.core.frame.DataFrame'>\n",
      "Int64Index: 34109 entries, 0 to 99\n",
      "Data columns (total 4 columns):\n",
      "lyrics    32570 non-null object\n",
      "year      34109 non-null object\n",
      "title     34108 non-null object\n",
      "artist    34109 non-null object\n",
      "dtypes: object(4)\n",
      "memory usage: 1.3+ MB\n"
     ]
    }
   ],
   "source": [
    "df.info()"
   ]
  },
  {
   "cell_type": "markdown",
   "metadata": {},
   "source": [
    "Dropping rows where there are nulls in the lyrics columnn. I lose $1539$ rows after doing this"
   ]
  },
  {
   "cell_type": "code",
   "execution_count": 599,
   "metadata": {
    "scrolled": false
   },
   "outputs": [
    {
     "data": {
      "text/plain": [
       "1539"
      ]
     },
     "execution_count": 599,
     "metadata": {},
     "output_type": "execute_result"
    }
   ],
   "source": [
    "len(df[df['lyrics'].isnull()].index)"
   ]
  },
  {
   "cell_type": "code",
   "execution_count": 600,
   "metadata": {},
   "outputs": [],
   "source": [
    "df = df[df['lyrics'].isnull() == False]"
   ]
  },
  {
   "cell_type": "code",
   "execution_count": 601,
   "metadata": {},
   "outputs": [],
   "source": [
    "df.reset_index(inplace=True)"
   ]
  },
  {
   "cell_type": "markdown",
   "metadata": {},
   "source": [
    "Getting rid of words/characters from lyrics that are contained inside brackets, curly braces, or parentheses. I'm also getting rid of newline characters"
   ]
  },
  {
   "cell_type": "code",
   "execution_count": 602,
   "metadata": {},
   "outputs": [],
   "source": [
    "pat = \"\\\\[.+?\\\\]|\\\\(.+?\\\\)|\\\\{.+?\\\\}\"\n",
    "re_pat = re.compile(pat)\n",
    "for i in range(len(df)):\n",
    "    df.loc[i,'lyrics'] = re_pat.sub(\"\", df.loc[i,'lyrics'])"
   ]
  },
  {
   "cell_type": "code",
   "execution_count": 603,
   "metadata": {},
   "outputs": [],
   "source": [
    "pat = \"\\\\n+\"\n",
    "re_pat = re.compile(pat)\n",
    "for i in range(len(df)):\n",
    "    df.loc[i,'lyrics'] = re_pat.sub(\" \", df.loc[i,'lyrics'])"
   ]
  },
  {
   "cell_type": "code",
   "execution_count": 604,
   "metadata": {},
   "outputs": [],
   "source": [
    "df.drop('index',axis=1,inplace=True)"
   ]
  },
  {
   "cell_type": "code",
   "execution_count": 605,
   "metadata": {},
   "outputs": [],
   "source": [
    "df.reset_index(inplace=True)"
   ]
  },
  {
   "cell_type": "code",
   "execution_count": 606,
   "metadata": {},
   "outputs": [],
   "source": [
    "df.drop('index',axis=1,inplace=True)"
   ]
  },
  {
   "cell_type": "markdown",
   "metadata": {},
   "source": [
    "Dropping rows that have lyrics that are an empty string"
   ]
  },
  {
   "cell_type": "code",
   "execution_count": 607,
   "metadata": {},
   "outputs": [],
   "source": [
    "for i in range(len(df)):\n",
    "    if df.loc[i,'lyrics'] == '':\n",
    "        df.drop(index=i,inplace=True)"
   ]
  },
  {
   "cell_type": "code",
   "execution_count": 608,
   "metadata": {},
   "outputs": [],
   "source": [
    "df.reset_index(inplace=True)"
   ]
  },
  {
   "cell_type": "code",
   "execution_count": 623,
   "metadata": {},
   "outputs": [],
   "source": [
    "df.drop('index',inplace=True,axis=1)"
   ]
  },
  {
   "cell_type": "markdown",
   "metadata": {},
   "source": [
    "Creating a function that makes use of the sequence matcher library. This function compares to strings and returns a ratio indicating how similar they are. If the ratio is above $.3$, it returns a true. This function will be used to remove duplicates"
   ]
  },
  {
   "cell_type": "code",
   "execution_count": 609,
   "metadata": {},
   "outputs": [],
   "source": [
    "def songsAreSame(s1, s2):    \n",
    "    seqA = sm(None, s1, s2)\n",
    "    seqB = sm(None, s2, s1)\n",
    "    return seqA.ratio() > 0.3 or seqB.ratio() > 0.3"
   ]
  },
  {
   "cell_type": "markdown",
   "metadata": {},
   "source": [
    "Creating a similar function but it compares titles to see if they are the same. The threshold in this function is $.5$"
   ]
  },
  {
   "cell_type": "code",
   "execution_count": 611,
   "metadata": {},
   "outputs": [],
   "source": [
    "def titlesAreSame(s1, s2):    \n",
    "    seqA = sm(None, s1, s2)\n",
    "    seqB = sm(None, s2, s1)\n",
    "    return seqA.ratio() > 0.5 or seqB.ratio() > 0.5"
   ]
  },
  {
   "cell_type": "markdown",
   "metadata": {},
   "source": [
    "Dropping rows that are duplicates by comparing the titles and lyrics of rows that are next to each other (all duplicates appear next to each other). Dropping duplicates results in losing $6569$ rows. "
   ]
  },
  {
   "cell_type": "code",
   "execution_count": 612,
   "metadata": {},
   "outputs": [],
   "source": [
    "to_drop = []\n",
    "for i in range(len(df)-1):\n",
    "    if songsAreSame(df.loc[i,'lyrics'],df.loc[i+1,'lyrics']) or titlesAreSame(df.loc[i, 'title'],df.loc[i+1,'title']):\n",
    "        to_drop.append(i+1)"
   ]
  },
  {
   "cell_type": "code",
   "execution_count": 613,
   "metadata": {},
   "outputs": [
    {
     "data": {
      "text/plain": [
       "6569"
      ]
     },
     "execution_count": 613,
     "metadata": {},
     "output_type": "execute_result"
    }
   ],
   "source": [
    "len(to_drop)"
   ]
  },
  {
   "cell_type": "code",
   "execution_count": 614,
   "metadata": {},
   "outputs": [],
   "source": [
    "for i in to_drop:\n",
    "    df.drop(index=i,inplace=True)"
   ]
  },
  {
   "cell_type": "markdown",
   "metadata": {
    "scrolled": true
   },
   "source": [
    "Replacing the names of some of the artists with the correct punctuation manually "
   ]
  },
  {
   "cell_type": "code",
   "execution_count": 615,
   "metadata": {},
   "outputs": [],
   "source": [
    "df.replace('J Cole', 'J. Cole', inplace=True)"
   ]
  },
  {
   "cell_type": "code",
   "execution_count": 616,
   "metadata": {},
   "outputs": [],
   "source": [
    "df.replace('TI', 'T.I.', inplace=True)"
   ]
  },
  {
   "cell_type": "code",
   "execution_count": 617,
   "metadata": {},
   "outputs": [],
   "source": [
    "df.replace('The Notorious BIG', 'Notorious B.I.G.', inplace=True)"
   ]
  },
  {
   "cell_type": "code",
   "execution_count": 618,
   "metadata": {},
   "outputs": [],
   "source": [
    "df.replace('DMC', 'Run DMC', inplace=True)"
   ]
  },
  {
   "cell_type": "code",
   "execution_count": 619,
   "metadata": {},
   "outputs": [],
   "source": [
    "df.replace('NWA', 'N.W.A', inplace=True)"
   ]
  },
  {
   "cell_type": "code",
   "execution_count": 620,
   "metadata": {},
   "outputs": [],
   "source": [
    "df.replace('BoB', 'B.o.B', inplace=True)"
   ]
  },
  {
   "cell_type": "code",
   "execution_count": 621,
   "metadata": {},
   "outputs": [],
   "source": [
    "df.replace('RA The Rugged Man', 'R.A. The Rugged Man', inplace=True)"
   ]
  },
  {
   "cell_type": "code",
   "execution_count": 622,
   "metadata": {},
   "outputs": [],
   "source": [
    "df.replace('Sir Mix-a-Lot', 'Sir Mix-A-Lot', inplace=True)"
   ]
  },
  {
   "cell_type": "code",
   "execution_count": 623,
   "metadata": {},
   "outputs": [],
   "source": [
    "df.drop('index',inplace=True,axis=1)"
   ]
  },
  {
   "cell_type": "code",
   "execution_count": 627,
   "metadata": {},
   "outputs": [],
   "source": [
    "df.reset_index(inplace=True)"
   ]
  },
  {
   "cell_type": "markdown",
   "metadata": {},
   "source": [
    "Checking my artists to make sure their names are spelled correctly and with the correct punctuation / characters"
   ]
  },
  {
   "cell_type": "code",
   "execution_count": 632,
   "metadata": {},
   "outputs": [
    {
     "data": {
      "text/plain": [
       "array(['MF Doom', 'XXXTentacion', 'A$AP Rocky', 'Chance the Rapper',\n",
       "       '2 Chainz', \"Cam'ron\", 'Pimp C', 'Raekwon', 'Nelly', 'J Dilla',\n",
       "       'Vic Mensa', 'Lil Dicky', 'D12', 'Trick Daddy', 'Lil Wayne',\n",
       "       'MC Lyte', 'Slick Rick', 'Talib Kweli', 'Nas', 'Joey Bada$$',\n",
       "       'Kendrick Lamar', 'Biz Markie', 'Lisa Lopes', 'Brother Ali',\n",
       "       'Scarface', 'André 3000', 'Wyclef Jean', 'Run DMC', 'Lauryn Hill',\n",
       "       'Eminem', 'Heavy D', 'Tyler, the Creator', 'Joell Ortiz',\n",
       "       'Sir Mix-A-Lot', 'Chuck D', 'Method Man', 'Mac Miller', 'G-Eazy',\n",
       "       'Gucci Mane', 'Joe Budden', 'Sean Combs', 'Chamillionaire',\n",
       "       'Waka Flocka Flame', 'Danny Brown', 'Lupe Fiasco', 'Kid Rock',\n",
       "       'Phife Dawg', 'J. Cole', 'Lil Boosie', 'DMX', 'Notorious B.I.G.',\n",
       "       'Kid Ink', 'Nicki Minaj', 'Cypress Hill', 'Snoop Dogg', 'The Game',\n",
       "       'Big Daddy Kane', 'Young Buck', \"Ol' Dirty Bastard\", 'N.W.A',\n",
       "       'Rae Sremmurd', 'Del tha Funkee Homosapien', 'Kid Cudi', 'Common',\n",
       "       'Westside Connection', 'Redman', 'Rick Ross', 'Q-Tip', '50 Cent',\n",
       "       'Lil Uzi Vert', 'T.I.', 'Nate Dogg', 'Eazy-E', 'Aesop Rock',\n",
       "       'Bad Meets Evil', '21 Savage', 'Big Boi', 'Travis Scott',\n",
       "       'Pusha T', 'MC Ride', 'E-40', 'Will Smith', 'Isaiah Rashad',\n",
       "       'The Pharcyde', 'Tupac', 'Jay-Z', 'Ice Cube', 'B.o.B', 'Hopsin',\n",
       "       'Tech N9ne', 'Mobb Deep', 'Twista', 'Ja Rule', 'DJ Khaled',\n",
       "       'Kurupt', 'Busta Rhymes', 'EPMD', 'Ace Hood', 'YG', 'Warren G',\n",
       "       'Killer Mike', 'Immortal Technique', 'Schoolboy Q',\n",
       "       'Action Bronson', 'Meek Mill', 'GZA', 'MC Eiht', 'Migos',\n",
       "       'Slaughterhouse', 'Xzibit', 'Flo Rida', 'Atmosphere',\n",
       "       'Royce da 5\\'9\"', 'Jadakiss', \"Shaquille O'Neal\", 'Missy Elliott',\n",
       "       'Beanie Sigel', 'Big L', 'Coolio', 'Mos Def', 'Wiz Khalifa', 'RZA',\n",
       "       'Juvenile', 'Drake', 'Ghostface Killah', 'Joyner Lucas', 'Mack 10',\n",
       "       'LL Cool J', 'Childish Gambino', 'Fetty Wap', 'Big Sean',\n",
       "       'Canibus', 'Ludacris', 'House of Pain', 'Kurtis Blow', 'Ice-T',\n",
       "       'Big Pun', 'Erick Sermon', 'Logic', 'Kool Moe Dee', 'Bun B',\n",
       "       'KRS-One', 'Jay Rock', 'Kanye West', 'Pharoahe Monch', 'Future',\n",
       "       'A$AP Ferg', 'R.A. The Rugged Man'], dtype=object)"
      ]
     },
     "execution_count": 632,
     "metadata": {},
     "output_type": "execute_result"
    }
   ],
   "source": [
    "df['artist'].unique()"
   ]
  },
  {
   "cell_type": "code",
   "execution_count": 635,
   "metadata": {},
   "outputs": [],
   "source": [
    "df.to_csv('./clean_df')"
   ]
  },
  {
   "cell_type": "code",
   "execution_count": null,
   "metadata": {},
   "outputs": [],
   "source": []
  }
 ],
 "metadata": {
  "kernelspec": {
   "display_name": "Python 3",
   "language": "python",
   "name": "python3"
  },
  "language_info": {
   "codemirror_mode": {
    "name": "ipython",
    "version": 3
   },
   "file_extension": ".py",
   "mimetype": "text/x-python",
   "name": "python",
   "nbconvert_exporter": "python",
   "pygments_lexer": "ipython3",
   "version": "3.6.5"
  }
 },
 "nbformat": 4,
 "nbformat_minor": 2
}
