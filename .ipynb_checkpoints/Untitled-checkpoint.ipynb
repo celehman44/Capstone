{
 "cells": [
  {
   "cell_type": "code",
   "execution_count": 2,
   "metadata": {},
   "outputs": [],
   "source": [
    "import json"
   ]
  },
  {
   "cell_type": "code",
   "execution_count": 3,
   "metadata": {},
   "outputs": [],
   "source": [
    "with open('./artist_objects/Eazy-E.json') as json_data:\n",
    "    EE = json.load(json_data)"
   ]
  },
  {
   "cell_type": "code",
   "execution_count": 17,
   "metadata": {},
   "outputs": [
    {
     "data": {
      "text/plain": [
       "\"Seven-thousand, four hundred, twenty three grains\\nOf sand drop from the hourglass\\nIt's how much time I got left on this planet\\nSome motherfucker's gotta die!\\nI'm an evil motherfucker ready to tear shit up\\nI'm gonna put these things on you, and never let up\\nSee, my momma...she was wrong when I was born\\nThat a nigga like E should'a never been born\\nToo late, big mistake in '72\\nIt's '92, now the year of code blue\\n15 hours..11 minutes..30 seconds\\nI'm a motherfuckin' wreck\\nGonna pay back niggas who did me wrong in the past\\nMy days ain't long\\nI'm comin' strong and fast\\nLock up 8 niggs..kill up 10 pigs\\nInnocent and fuckers are also dyin, too\\nNow what else can I do?\\nFuck, fuck, fuck and plant my seeds\\nLeavin' kids in this world like me\\nThe lunatic psycho mutherfucka Eazy-E\\n\\nShut the fuck up nigga\\nCause you ain't seen shit\\nYou ain't seen shit\\nYou ain't seen shit\\nSee, my momma...she was wrong when I was born\\nThat a nigga like E should'a never been born(x5)\\n\\n24 hours to live\\nOh why, oh why?\\nMust die\\n\\nSky diving, scuba diving\\nTo Evel Knievel stunt car drivin'\\nBungee cord jumpin' off a bridge\\nIt's hard to breathe with a fractured rib\\nI can't take this shit\\nLet me see how much more time I got to spend\\nHit more skins\\nBack up in her pussy\\nUp in the butt\\nI gotta let off\\nA few more nuts\\nI'm starting to panic\\nI'm starting to sweat\\nCause I don't really wanna die yet\\nDizzy spells, flashbacks in my head\\nNiggas ain't want me to bein' happy when I'm dead\\nBut I ain't goin' out unless 30 niggas die\\nI'm dying anyway so I'm thinking suicide\\nRun into a crowd of niggas dyin' by the pistol\\n24 hours to live\\nTook the motheruckin' whistle\\nBut I don't wanna die\\n24 hours to live\\nOh why, oh why?\\nMust die\\n\\n\\nTo sweep with the feet when he hit the concrete\\nChop him up, dice him up and sacrifice his meat\\nDrag him by his ankles to the cemetary\\n\\nShut the fuck up nigga\\nCause you ain't seen shit\\nYou ain't seen shit\\nYou ain't seen shit\\nSee, my momma...she was wrong when I was born\\nThat a nigga like E should'a never been born(x4)\\n\\n\\nShut the fuck up nigga\\nCause you ain't seen shit\\nI'm 'bout to take this blade and staight up grip\\nI'm holdin' the neck of the devil and drink his blood\\nAllowing my soul to be polluted by his evil root\\nAnd now I'm mad insane, red as rose as I strain for my hearbeat\\nTo thumpety-thump to pump, it might burst\\nFalse alarms, and no harm that will commit to the E\\n\\nNow you choose\\nHow will you spend your last 24 hours?\\nC'mon..talk to me\\n\\nBut now I'm down to an hour 23\\nTime is moving fast, but not that slow\\nI thought I had an hour, but it's seconds left the go\\nI ran into the office\\nNo more time is left\\nI ran up to the doctor with a bomb to my...\\n\\nShut the fuck up nigga\\nCause you ain't seen shit\\nYou ain't seen shit\\nYou ain't seen shit\\nSee, my momma...she was wrong when I was born\\nThat a nigga like E should'a never been born(x4)\""
      ]
     },
     "execution_count": 17,
     "metadata": {},
     "output_type": "execute_result"
    }
   ],
   "source": [
    "EE[76]['lyrics']"
   ]
  },
  {
   "cell_type": "code",
   "execution_count": 13,
   "metadata": {},
   "outputs": [
    {
     "data": {
      "text/plain": [
       "77"
      ]
     },
     "execution_count": 13,
     "metadata": {},
     "output_type": "execute_result"
    }
   ],
   "source": [
    "len(EE)"
   ]
  },
  {
   "cell_type": "code",
   "execution_count": null,
   "metadata": {},
   "outputs": [],
   "source": []
  }
 ],
 "metadata": {
  "kernelspec": {
   "display_name": "Python 3",
   "language": "python",
   "name": "python3"
  },
  "language_info": {
   "codemirror_mode": {
    "name": "ipython",
    "version": 3
   },
   "file_extension": ".py",
   "mimetype": "text/x-python",
   "name": "python",
   "nbconvert_exporter": "python",
   "pygments_lexer": "ipython3",
   "version": "3.6.3"
  }
 },
 "nbformat": 4,
 "nbformat_minor": 2
}
